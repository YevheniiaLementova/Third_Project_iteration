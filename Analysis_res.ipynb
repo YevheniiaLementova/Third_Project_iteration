{
 "cells": [
  {
   "cell_type": "code",
   "execution_count": 1,
   "id": "4066074f-097a-43e5-8819-6b4fddb982b0",
   "metadata": {},
   "outputs": [],
   "source": [
    "import numpy as np\n",
    "import pandas as pd\n",
    "import matplotlib.pyplot as plt\n",
    "import seaborn as sns"
   ]
  },
  {
   "cell_type": "code",
   "execution_count": 48,
   "id": "b53e678a-64a1-4fd5-9d5b-cc34e6e85d5d",
   "metadata": {},
   "outputs": [
    {
     "name": "stdout",
     "output_type": "stream",
     "text": [
      "Collecting rouge-score\n",
      "  Downloading rouge_score-0.1.2.tar.gz (17 kB)\n",
      "  Preparing metadata (setup.py) ... \u001b[?25ldone\n",
      "\u001b[?25hCollecting absl-py (from rouge-score)\n",
      "  Downloading absl_py-2.1.0-py3-none-any.whl.metadata (2.3 kB)\n",
      "Requirement already satisfied: nltk in /opt/anaconda3/lib/python3.11/site-packages (from rouge-score) (3.8.1)\n",
      "Requirement already satisfied: numpy in /opt/anaconda3/lib/python3.11/site-packages (from rouge-score) (1.24.4)\n",
      "Requirement already satisfied: six>=1.14.0 in /opt/anaconda3/lib/python3.11/site-packages (from rouge-score) (1.16.0)\n",
      "Requirement already satisfied: click in /opt/anaconda3/lib/python3.11/site-packages (from nltk->rouge-score) (8.1.7)\n",
      "Requirement already satisfied: joblib in /opt/anaconda3/lib/python3.11/site-packages (from nltk->rouge-score) (1.2.0)\n",
      "Requirement already satisfied: regex>=2021.8.3 in /opt/anaconda3/lib/python3.11/site-packages (from nltk->rouge-score) (2023.10.3)\n",
      "Requirement already satisfied: tqdm in /opt/anaconda3/lib/python3.11/site-packages (from nltk->rouge-score) (4.65.0)\n",
      "Downloading absl_py-2.1.0-py3-none-any.whl (133 kB)\n",
      "\u001b[2K   \u001b[90m━━━━━━━━━━━━━━━━━━━━━━━━━━━━━━━━━━━━━━━\u001b[0m \u001b[32m133.7/133.7 kB\u001b[0m \u001b[31m676.2 kB/s\u001b[0m eta \u001b[36m0:00:00\u001b[0m00:01\u001b[0m00:01\u001b[0m\n",
      "\u001b[?25hBuilding wheels for collected packages: rouge-score\n",
      "  Building wheel for rouge-score (setup.py) ... \u001b[?25ldone\n",
      "\u001b[?25h  Created wheel for rouge-score: filename=rouge_score-0.1.2-py3-none-any.whl size=24932 sha256=a88b51ab4fb3c238d5627cc0fc68488a40b7fbe8bfcb9932f2a49372c8b8b555\n",
      "  Stored in directory: /Users/ylementova/Library/Caches/pip/wheels/1e/19/43/8a442dc83660ca25e163e1bd1f89919284ab0d0c1475475148\n",
      "Successfully built rouge-score\n",
      "Installing collected packages: absl-py, rouge-score\n",
      "Successfully installed absl-py-2.1.0 rouge-score-0.1.2\n",
      "Note: you may need to restart the kernel to use updated packages.\n"
     ]
    }
   ],
   "source": [
    "pip install rouge-score"
   ]
  },
  {
   "cell_type": "code",
   "execution_count": 94,
   "id": "4a746f58-00fd-4244-89ad-e29715424a60",
   "metadata": {},
   "outputs": [
    {
     "name": "stderr",
     "output_type": "stream",
     "text": [
      "/opt/anaconda3/lib/python3.11/site-packages/scipy/stats/_morestats.py:3414: UserWarning: Exact p-value calculation does not work if there are zeros. Switching to normal approximation.\n",
      "  warnings.warn(\"Exact p-value calculation does not work if there are \"\n"
     ]
    }
   ],
   "source": [
    "from scipy.stats import wilcoxon\n",
    "import numpy as np\n",
    "import pandas as pd\n",
    "\n",
    "# Function to compute pairwise p-values for cosine similarity\n",
    "def compute_cosine_similarity_pvalues(models, cosine_similarity_data):\n",
    "    pval_matrix = pd.DataFrame(np.nan, index=models, columns=models)  # Initialize matrix with NaNs\n",
    "    \n",
    "    for i, model1 in enumerate(models):\n",
    "        for j, model2 in enumerate(models):\n",
    "            if i > j:  # Fill only below the main diagonal\n",
    "                _, p_value = wilcoxon(cosine_similarity_data[model1], cosine_similarity_data[model2])\n",
    "                pval_matrix.loc[model1, model2] = p_value\n",
    "\n",
    "    return pval_matrix\n",
    "\n",
    "# Collect cosine similarity results per model\n",
    "cosine_similarity_data = {\n",
    "    \"output_val_cos_sim['gener_answer_0']\": output_val_cos_sim['cosine_sim_0'].tolist(),\n",
    "    \"output_val_cos_sim['gener_answer_1']\": output_val_cos_sim['cosine_sim_1'].tolist(),\n",
    "    \"output_val_cos_sim['gener_answer_2']\": output_val_cos_sim['cosine_sim_2'].tolist(),\n",
    "    \"output_val_cos_sim['gener_answer_3']\": output_val_cos_sim['cosine_sim_3'].tolist(),\n",
    "    \"output_val_cos_sim['gener_answer_4']\": output_val_cos_sim['cosine_sim_4'].tolist(),\n",
    "}\n",
    "\n",
    "# List of model names\n",
    "models = list(cosine_similarity_data.keys())\n",
    "\n",
    "# Compute pairwise p-values for cosine similarity\n",
    "pval_matrix_cosine = compute_cosine_similarity_pvalues(models, cosine_similarity_data)\n",
    "\n",
    "# Add meaningful row and column names\n",
    "pval_matrix_cosine.index.name = \"Model\"\n",
    "pval_matrix_cosine.columns.name = \"Model\""
   ]
  },
  {
   "cell_type": "code",
   "execution_count": 96,
   "id": "cce7604d-0924-4876-91ed-c41b2f1a3a0c",
   "metadata": {},
   "outputs": [
    {
     "data": {
      "text/html": [
       "<div>\n",
       "<style scoped>\n",
       "    .dataframe tbody tr th:only-of-type {\n",
       "        vertical-align: middle;\n",
       "    }\n",
       "\n",
       "    .dataframe tbody tr th {\n",
       "        vertical-align: top;\n",
       "    }\n",
       "\n",
       "    .dataframe thead th {\n",
       "        text-align: right;\n",
       "    }\n",
       "</style>\n",
       "<table border=\"1\" class=\"dataframe\">\n",
       "  <thead>\n",
       "    <tr style=\"text-align: right;\">\n",
       "      <th>Model</th>\n",
       "      <th>output_val_cos_sim['gener_answer_0']</th>\n",
       "      <th>output_val_cos_sim['gener_answer_1']</th>\n",
       "      <th>output_val_cos_sim['gener_answer_2']</th>\n",
       "      <th>output_val_cos_sim['gener_answer_3']</th>\n",
       "      <th>output_val_cos_sim['gener_answer_4']</th>\n",
       "    </tr>\n",
       "    <tr>\n",
       "      <th>Model</th>\n",
       "      <th></th>\n",
       "      <th></th>\n",
       "      <th></th>\n",
       "      <th></th>\n",
       "      <th></th>\n",
       "    </tr>\n",
       "  </thead>\n",
       "  <tbody>\n",
       "    <tr>\n",
       "      <th>output_val_cos_sim['gener_answer_0']</th>\n",
       "      <td>NaN</td>\n",
       "      <td>NaN</td>\n",
       "      <td>NaN</td>\n",
       "      <td>NaN</td>\n",
       "      <td>NaN</td>\n",
       "    </tr>\n",
       "    <tr>\n",
       "      <th>output_val_cos_sim['gener_answer_1']</th>\n",
       "      <td>0.966118</td>\n",
       "      <td>NaN</td>\n",
       "      <td>NaN</td>\n",
       "      <td>NaN</td>\n",
       "      <td>NaN</td>\n",
       "    </tr>\n",
       "    <tr>\n",
       "      <th>output_val_cos_sim['gener_answer_2']</th>\n",
       "      <td>0.264526</td>\n",
       "      <td>0.177114</td>\n",
       "      <td>NaN</td>\n",
       "      <td>NaN</td>\n",
       "      <td>NaN</td>\n",
       "    </tr>\n",
       "    <tr>\n",
       "      <th>output_val_cos_sim['gener_answer_3']</th>\n",
       "      <td>0.609459</td>\n",
       "      <td>0.683239</td>\n",
       "      <td>0.272095</td>\n",
       "      <td>NaN</td>\n",
       "      <td>NaN</td>\n",
       "    </tr>\n",
       "    <tr>\n",
       "      <th>output_val_cos_sim['gener_answer_4']</th>\n",
       "      <td>0.579842</td>\n",
       "      <td>0.777565</td>\n",
       "      <td>0.064039</td>\n",
       "      <td>0.646462</td>\n",
       "      <td>NaN</td>\n",
       "    </tr>\n",
       "  </tbody>\n",
       "</table>\n",
       "</div>"
      ],
      "text/plain": [
       "Model                                 output_val_cos_sim['gener_answer_0']  \\\n",
       "Model                                                                        \n",
       "output_val_cos_sim['gener_answer_0']                                   NaN   \n",
       "output_val_cos_sim['gener_answer_1']                              0.966118   \n",
       "output_val_cos_sim['gener_answer_2']                              0.264526   \n",
       "output_val_cos_sim['gener_answer_3']                              0.609459   \n",
       "output_val_cos_sim['gener_answer_4']                              0.579842   \n",
       "\n",
       "Model                                 output_val_cos_sim['gener_answer_1']  \\\n",
       "Model                                                                        \n",
       "output_val_cos_sim['gener_answer_0']                                   NaN   \n",
       "output_val_cos_sim['gener_answer_1']                                   NaN   \n",
       "output_val_cos_sim['gener_answer_2']                              0.177114   \n",
       "output_val_cos_sim['gener_answer_3']                              0.683239   \n",
       "output_val_cos_sim['gener_answer_4']                              0.777565   \n",
       "\n",
       "Model                                 output_val_cos_sim['gener_answer_2']  \\\n",
       "Model                                                                        \n",
       "output_val_cos_sim['gener_answer_0']                                   NaN   \n",
       "output_val_cos_sim['gener_answer_1']                                   NaN   \n",
       "output_val_cos_sim['gener_answer_2']                                   NaN   \n",
       "output_val_cos_sim['gener_answer_3']                              0.272095   \n",
       "output_val_cos_sim['gener_answer_4']                              0.064039   \n",
       "\n",
       "Model                                 output_val_cos_sim['gener_answer_3']  \\\n",
       "Model                                                                        \n",
       "output_val_cos_sim['gener_answer_0']                                   NaN   \n",
       "output_val_cos_sim['gener_answer_1']                                   NaN   \n",
       "output_val_cos_sim['gener_answer_2']                                   NaN   \n",
       "output_val_cos_sim['gener_answer_3']                                   NaN   \n",
       "output_val_cos_sim['gener_answer_4']                              0.646462   \n",
       "\n",
       "Model                                 output_val_cos_sim['gener_answer_4']  \n",
       "Model                                                                       \n",
       "output_val_cos_sim['gener_answer_0']                                   NaN  \n",
       "output_val_cos_sim['gener_answer_1']                                   NaN  \n",
       "output_val_cos_sim['gener_answer_2']                                   NaN  \n",
       "output_val_cos_sim['gener_answer_3']                                   NaN  \n",
       "output_val_cos_sim['gener_answer_4']                                   NaN  "
      ]
     },
     "execution_count": 96,
     "metadata": {},
     "output_type": "execute_result"
    }
   ],
   "source": [
    "pval_matrix_cosine"
   ]
  },
  {
   "cell_type": "code",
   "execution_count": 35,
   "id": "e0e6f6e0-d548-49d1-b895-fb668ff0c5ca",
   "metadata": {},
   "outputs": [],
   "source": [
    "import pandas as pd\n",
    "from rouge_score import rouge_scorer\n",
    "import numpy as np\n",
    "\n",
    "# Initialize ROUGE scorer\n",
    "scorer = rouge_scorer.RougeScorer(['rougeL'], use_stemmer=True)\n",
    "\n",
    "# Function to calculate ROUGE-L metrics (Precision and F1)\n",
    "def calculate_rouge_metrics(generated_answers, reference_answers):\n",
    "    rougeL_precision = []\n",
    "    rougeL_f1 = []\n",
    "    \n",
    "    for generated, reference in zip(generated_answers, reference_answers):\n",
    "        scores = scorer.score(reference, generated)\n",
    "        rougeL_precision.append(scores['rougeL'].precision)\n",
    "        rougeL_f1.append(scores['rougeL'].fmeasure)\n",
    "    \n",
    "    return np.mean(rougeL_precision), np.mean(rougeL_f1)\n",
    "\n",
    "# Define models' answers\n",
    "models = [\n",
    "    \"output_val_cos_sim['gener_answer_0']\",\n",
    "    \"output_val_cos_sim['gener_answer_1']\",\n",
    "    \"output_val_cos_sim['gener_answer_2']\",\n",
    "    \"output_val_cos_sim['gener_answer_3']\",\n",
    "    \"output_val_cos_sim['gener_answer_4']\"\n",
    "]\n",
    "\n",
    "# Collect results\n",
    "results = []\n",
    "for model_name in models:\n",
    "    generated_answers = eval(model_name)  # Evaluate the string to get the list of answers\n",
    "    reference_answers = output_val_cos_sim['correct_answer'].tolist()\n",
    "    precision, f1 = calculate_rouge_metrics(generated_answers, reference_answers)\n",
    "    results.append([model_name, precision, f1])\n",
    "\n",
    "# Create DataFrame\n",
    "results_df = pd.DataFrame(results, columns=[\"Model\", \"Precision (ROUGE-L)\", \"F1 Score (ROUGE-L)\"])\n",
    "results_df.set_index(\"Model\", inplace=True)\n"
   ]
  },
  {
   "cell_type": "code",
   "execution_count": 78,
   "id": "063b6f62-4f90-4e65-95ca-6af0a1be768b",
   "metadata": {},
   "outputs": [
    {
     "name": "stderr",
     "output_type": "stream",
     "text": [
      "/opt/anaconda3/lib/python3.11/site-packages/scipy/stats/_morestats.py:3414: UserWarning: Exact p-value calculation does not work if there are zeros. Switching to normal approximation.\n",
      "  warnings.warn(\"Exact p-value calculation does not work if there are \"\n",
      "/opt/anaconda3/lib/python3.11/site-packages/scipy/stats/_morestats.py:3428: UserWarning: Sample size too small for normal approximation.\n",
      "  warnings.warn(\"Sample size too small for normal approximation.\")\n",
      "/opt/anaconda3/lib/python3.11/site-packages/scipy/stats/_morestats.py:3414: UserWarning: Exact p-value calculation does not work if there are zeros. Switching to normal approximation.\n",
      "  warnings.warn(\"Exact p-value calculation does not work if there are \"\n",
      "/opt/anaconda3/lib/python3.11/site-packages/scipy/stats/_morestats.py:3428: UserWarning: Sample size too small for normal approximation.\n",
      "  warnings.warn(\"Sample size too small for normal approximation.\")\n"
     ]
    }
   ],
   "source": [
    "from scipy.stats import wilcoxon\n",
    "import numpy as np\n",
    "\n",
    "# Function to compute pairwise p-values for statistical significance\n",
    "def compute_pairwise_pvalues(metric_results, metric_name):\n",
    "    models = metric_results.keys()\n",
    "    num_models = len(models)\n",
    "    pval_matrix = pd.DataFrame(np.nan, index=models, columns=models)  # Initialize matrix with NaNs\n",
    "    \n",
    "    for i, model1 in enumerate(models):\n",
    "        for j, model2 in enumerate(models):\n",
    "            if i > j:  # Fill only below the main diagonal\n",
    "                _, p_value = wilcoxon(metric_results[model1], metric_results[model2])\n",
    "                pval_matrix.loc[model1, model2] = p_value\n",
    "\n",
    "    return pval_matrix\n",
    "\n",
    "# Collect results per model\n",
    "metric_results_precision = {}\n",
    "metric_results_f1 = {}\n",
    "\n",
    "for model_name in models:\n",
    "    generated_answers = eval(model_name)  # Evaluate the string to get the list of answers\n",
    "    reference_answers = output_val_cos_sim['correct_answer'].tolist()\n",
    "    \n",
    "    # Collect Precision and F1 scores\n",
    "    precisions = []\n",
    "    f1_scores = []\n",
    "    \n",
    "    for generated, reference in zip(generated_answers, reference_answers):\n",
    "        scores = scorer.score(reference, generated)\n",
    "        precisions.append(scores['rougeL'].precision)\n",
    "        f1_scores.append(scores['rougeL'].fmeasure)\n",
    "    \n",
    "    metric_results_precision[model_name] = precisions\n",
    "    metric_results_f1[model_name] = f1_scores\n",
    "\n",
    "# Compute pairwise p-values for Precision (ROUGE-L)\n",
    "pval_matrix_precision = compute_pairwise_pvalues(metric_results_precision, \"Precision (ROUGE-L)\")\n",
    "\n",
    "# Compute pairwise p-values for F1 Score (ROUGE-L)\n",
    "pval_matrix_f1 = compute_pairwise_pvalues(metric_results_f1, \"F1 Score (ROUGE-L)\")\n",
    "\n",
    "# Add meaningful column and row names\n",
    "pval_matrix_precision.index.name = \"Model\"\n",
    "pval_matrix_precision.columns.name = \"Model\"\n",
    "pval_matrix_f1.index.name = \"Model\"\n",
    "pval_matrix_f1.columns.name = \"Model\""
   ]
  },
  {
   "cell_type": "code",
   "execution_count": 45,
   "id": "e008b755-9110-45d5-b8a4-2065cd662d5e",
   "metadata": {},
   "outputs": [
    {
     "data": {
      "text/html": [
       "<div>\n",
       "<style scoped>\n",
       "    .dataframe tbody tr th:only-of-type {\n",
       "        vertical-align: middle;\n",
       "    }\n",
       "\n",
       "    .dataframe tbody tr th {\n",
       "        vertical-align: top;\n",
       "    }\n",
       "\n",
       "    .dataframe thead th {\n",
       "        text-align: right;\n",
       "    }\n",
       "</style>\n",
       "<table border=\"1\" class=\"dataframe\">\n",
       "  <thead>\n",
       "    <tr style=\"text-align: right;\">\n",
       "      <th></th>\n",
       "      <th>Precision (ROUGE-L)</th>\n",
       "      <th>F1 Score (ROUGE-L)</th>\n",
       "      <th>epoch</th>\n",
       "    </tr>\n",
       "    <tr>\n",
       "      <th>Model</th>\n",
       "      <th></th>\n",
       "      <th></th>\n",
       "      <th></th>\n",
       "    </tr>\n",
       "  </thead>\n",
       "  <tbody>\n",
       "    <tr>\n",
       "      <th>output_val_cos_sim['gener_answer_0']</th>\n",
       "      <td>0.136216</td>\n",
       "      <td>0.190527</td>\n",
       "      <td>0</td>\n",
       "    </tr>\n",
       "    <tr>\n",
       "      <th>output_val_cos_sim['gener_answer_1']</th>\n",
       "      <td>0.417412</td>\n",
       "      <td>0.304719</td>\n",
       "      <td>1</td>\n",
       "    </tr>\n",
       "    <tr>\n",
       "      <th>output_val_cos_sim['gener_answer_2']</th>\n",
       "      <td>0.385633</td>\n",
       "      <td>0.314924</td>\n",
       "      <td>2</td>\n",
       "    </tr>\n",
       "    <tr>\n",
       "      <th>output_val_cos_sim['gener_answer_3']</th>\n",
       "      <td>0.410274</td>\n",
       "      <td>0.322922</td>\n",
       "      <td>3</td>\n",
       "    </tr>\n",
       "    <tr>\n",
       "      <th>output_val_cos_sim['gener_answer_4']</th>\n",
       "      <td>0.402751</td>\n",
       "      <td>0.310918</td>\n",
       "      <td>4</td>\n",
       "    </tr>\n",
       "  </tbody>\n",
       "</table>\n",
       "</div>"
      ],
      "text/plain": [
       "                                      Precision (ROUGE-L)  F1 Score (ROUGE-L)  \\\n",
       "Model                                                                           \n",
       "output_val_cos_sim['gener_answer_0']             0.136216            0.190527   \n",
       "output_val_cos_sim['gener_answer_1']             0.417412            0.304719   \n",
       "output_val_cos_sim['gener_answer_2']             0.385633            0.314924   \n",
       "output_val_cos_sim['gener_answer_3']             0.410274            0.322922   \n",
       "output_val_cos_sim['gener_answer_4']             0.402751            0.310918   \n",
       "\n",
       "                                      epoch  \n",
       "Model                                        \n",
       "output_val_cos_sim['gener_answer_0']      0  \n",
       "output_val_cos_sim['gener_answer_1']      1  \n",
       "output_val_cos_sim['gener_answer_2']      2  \n",
       "output_val_cos_sim['gener_answer_3']      3  \n",
       "output_val_cos_sim['gener_answer_4']      4  "
      ]
     },
     "execution_count": 45,
     "metadata": {},
     "output_type": "execute_result"
    }
   ],
   "source": [
    "results_df"
   ]
  },
  {
   "cell_type": "code",
   "execution_count": 39,
   "id": "54484b15-32be-4a64-88b2-09c599c298b4",
   "metadata": {},
   "outputs": [],
   "source": [
    "results_df['epoch'] = [0, 1, 2, 3, 4]"
   ]
  },
  {
   "cell_type": "code",
   "execution_count": 51,
   "id": "3f804450-149e-4080-be9a-5b73a6abff62",
   "metadata": {},
   "outputs": [
    {
     "data": {
      "image/png": "[encoded data removed]",
      "text/plain": [
       "<Figure size 640x480 with 1 Axes>"
      ]
     },
     "metadata": {},
     "output_type": "display_data"
    }
   ],
   "source": [
    "sns.lineplot(data = results_df, x = 'epoch', y = 'F1 Score (ROUGE-L)', marker ='o')\n",
    "plt.title('Mean F1 Score (ROUGE-L) Across Epochs (Validation Set)')\n",
    "plt.grid()"
   ]
  },
  {
   "cell_type": "code",
   "execution_count": 47,
   "id": "842ec5f4-be3e-47cd-83c9-8c9000c8ad5b",
   "metadata": {},
   "outputs": [
    {
     "data": {
      "image/png": "[encoded data removed]",
      "text/plain": [
       "<Figure size 640x480 with 1 Axes>"
      ]
     },
     "metadata": {},
     "output_type": "display_data"
    }
   ],
   "source": [
    "sns.lineplot(data = results_df, x = 'epoch', y = 'Precision (ROUGE-L)', marker ='o')\n",
    "plt.title('Mean Precision (ROUGE-L) Across Epochs (Validation Set)')\n",
    "plt.grid()"
   ]
  },
  {
   "cell_type": "code",
   "execution_count": 80,
   "id": "d6a2c35d-2e94-4bfe-b2b9-993330ab846d",
   "metadata": {},
   "outputs": [
    {
     "data": {
      "text/html": [
       "<div>\n",
       "<style scoped>\n",
       "    .dataframe tbody tr th:only-of-type {\n",
       "        vertical-align: middle;\n",
       "    }\n",
       "\n",
       "    .dataframe tbody tr th {\n",
       "        vertical-align: top;\n",
       "    }\n",
       "\n",
       "    .dataframe thead th {\n",
       "        text-align: right;\n",
       "    }\n",
       "</style>\n",
       "<table border=\"1\" class=\"dataframe\">\n",
       "  <thead>\n",
       "    <tr style=\"text-align: right;\">\n",
       "      <th>Model</th>\n",
       "      <th>output_val_cos_sim['gener_answer_0']</th>\n",
       "      <th>output_val_cos_sim['gener_answer_1']</th>\n",
       "      <th>output_val_cos_sim['gener_answer_2']</th>\n",
       "      <th>output_val_cos_sim['gener_answer_3']</th>\n",
       "      <th>output_val_cos_sim['gener_answer_4']</th>\n",
       "    </tr>\n",
       "    <tr>\n",
       "      <th>Model</th>\n",
       "      <th></th>\n",
       "      <th></th>\n",
       "      <th></th>\n",
       "      <th></th>\n",
       "      <th></th>\n",
       "    </tr>\n",
       "  </thead>\n",
       "  <tbody>\n",
       "    <tr>\n",
       "      <th>output_val_cos_sim['gener_answer_0']</th>\n",
       "      <td>NaN</td>\n",
       "      <td>NaN</td>\n",
       "      <td>NaN</td>\n",
       "      <td>NaN</td>\n",
       "      <td>NaN</td>\n",
       "    </tr>\n",
       "    <tr>\n",
       "      <th>output_val_cos_sim['gener_answer_1']</th>\n",
       "      <td>0.000008</td>\n",
       "      <td>NaN</td>\n",
       "      <td>NaN</td>\n",
       "      <td>NaN</td>\n",
       "      <td>NaN</td>\n",
       "    </tr>\n",
       "    <tr>\n",
       "      <th>output_val_cos_sim['gener_answer_2']</th>\n",
       "      <td>0.000038</td>\n",
       "      <td>0.310897</td>\n",
       "      <td>NaN</td>\n",
       "      <td>NaN</td>\n",
       "      <td>NaN</td>\n",
       "    </tr>\n",
       "    <tr>\n",
       "      <th>output_val_cos_sim['gener_answer_3']</th>\n",
       "      <td>0.000015</td>\n",
       "      <td>0.700703</td>\n",
       "      <td>0.099481</td>\n",
       "      <td>NaN</td>\n",
       "      <td>NaN</td>\n",
       "    </tr>\n",
       "    <tr>\n",
       "      <th>output_val_cos_sim['gener_answer_4']</th>\n",
       "      <td>0.000008</td>\n",
       "      <td>0.637767</td>\n",
       "      <td>0.637870</td>\n",
       "      <td>0.767097</td>\n",
       "      <td>NaN</td>\n",
       "    </tr>\n",
       "  </tbody>\n",
       "</table>\n",
       "</div>"
      ],
      "text/plain": [
       "Model                                 output_val_cos_sim['gener_answer_0']  \\\n",
       "Model                                                                        \n",
       "output_val_cos_sim['gener_answer_0']                                   NaN   \n",
       "output_val_cos_sim['gener_answer_1']                              0.000008   \n",
       "output_val_cos_sim['gener_answer_2']                              0.000038   \n",
       "output_val_cos_sim['gener_answer_3']                              0.000015   \n",
       "output_val_cos_sim['gener_answer_4']                              0.000008   \n",
       "\n",
       "Model                                 output_val_cos_sim['gener_answer_1']  \\\n",
       "Model                                                                        \n",
       "output_val_cos_sim['gener_answer_0']                                   NaN   \n",
       "output_val_cos_sim['gener_answer_1']                                   NaN   \n",
       "output_val_cos_sim['gener_answer_2']                              0.310897   \n",
       "output_val_cos_sim['gener_answer_3']                              0.700703   \n",
       "output_val_cos_sim['gener_answer_4']                              0.637767   \n",
       "\n",
       "Model                                 output_val_cos_sim['gener_answer_2']  \\\n",
       "Model                                                                        \n",
       "output_val_cos_sim['gener_answer_0']                                   NaN   \n",
       "output_val_cos_sim['gener_answer_1']                                   NaN   \n",
       "output_val_cos_sim['gener_answer_2']                                   NaN   \n",
       "output_val_cos_sim['gener_answer_3']                              0.099481   \n",
       "output_val_cos_sim['gener_answer_4']                              0.637870   \n",
       "\n",
       "Model                                 output_val_cos_sim['gener_answer_3']  \\\n",
       "Model                                                                        \n",
       "output_val_cos_sim['gener_answer_0']                                   NaN   \n",
       "output_val_cos_sim['gener_answer_1']                                   NaN   \n",
       "output_val_cos_sim['gener_answer_2']                                   NaN   \n",
       "output_val_cos_sim['gener_answer_3']                                   NaN   \n",
       "output_val_cos_sim['gener_answer_4']                              0.767097   \n",
       "\n",
       "Model                                 output_val_cos_sim['gener_answer_4']  \n",
       "Model                                                                       \n",
       "output_val_cos_sim['gener_answer_0']                                   NaN  \n",
       "output_val_cos_sim['gener_answer_1']                                   NaN  \n",
       "output_val_cos_sim['gener_answer_2']                                   NaN  \n",
       "output_val_cos_sim['gener_answer_3']                                   NaN  \n",
       "output_val_cos_sim['gener_answer_4']                                   NaN  "
      ]
     },
     "execution_count": 80,
     "metadata": {},
     "output_type": "execute_result"
    }
   ],
   "source": [
    "pval_matrix_precision"
   ]
  },
  {
   "cell_type": "code",
   "execution_count": 88,
   "id": "2bc54137-ca00-4e09-b0a2-3418ddd6789f",
   "metadata": {},
   "outputs": [
    {
     "data": {
      "text/html": [
       "<div>\n",
       "<style scoped>\n",
       "    .dataframe tbody tr th:only-of-type {\n",
       "        vertical-align: middle;\n",
       "    }\n",
       "\n",
       "    .dataframe tbody tr th {\n",
       "        vertical-align: top;\n",
       "    }\n",
       "\n",
       "    .dataframe thead th {\n",
       "        text-align: right;\n",
       "    }\n",
       "</style>\n",
       "<table border=\"1\" class=\"dataframe\">\n",
       "  <thead>\n",
       "    <tr style=\"text-align: right;\">\n",
       "      <th>Model</th>\n",
       "      <th>output_val_cos_sim['gener_answer_0']</th>\n",
       "      <th>output_val_cos_sim['gener_answer_1']</th>\n",
       "      <th>output_val_cos_sim['gener_answer_2']</th>\n",
       "      <th>output_val_cos_sim['gener_answer_3']</th>\n",
       "      <th>output_val_cos_sim['gener_answer_4']</th>\n",
       "    </tr>\n",
       "    <tr>\n",
       "      <th>Model</th>\n",
       "      <th></th>\n",
       "      <th></th>\n",
       "      <th></th>\n",
       "      <th></th>\n",
       "      <th></th>\n",
       "    </tr>\n",
       "  </thead>\n",
       "  <tbody>\n",
       "    <tr>\n",
       "      <th>output_val_cos_sim['gener_answer_0']</th>\n",
       "      <td>NaN</td>\n",
       "      <td>NaN</td>\n",
       "      <td>NaN</td>\n",
       "      <td>NaN</td>\n",
       "      <td>NaN</td>\n",
       "    </tr>\n",
       "    <tr>\n",
       "      <th>output_val_cos_sim['gener_answer_1']</th>\n",
       "      <td>0.001579</td>\n",
       "      <td>NaN</td>\n",
       "      <td>NaN</td>\n",
       "      <td>NaN</td>\n",
       "      <td>NaN</td>\n",
       "    </tr>\n",
       "    <tr>\n",
       "      <th>output_val_cos_sim['gener_answer_2']</th>\n",
       "      <td>0.001045</td>\n",
       "      <td>0.753152</td>\n",
       "      <td>NaN</td>\n",
       "      <td>NaN</td>\n",
       "      <td>NaN</td>\n",
       "    </tr>\n",
       "    <tr>\n",
       "      <th>output_val_cos_sim['gener_answer_3']</th>\n",
       "      <td>0.001289</td>\n",
       "      <td>0.382352</td>\n",
       "      <td>0.182338</td>\n",
       "      <td>NaN</td>\n",
       "      <td>NaN</td>\n",
       "    </tr>\n",
       "    <tr>\n",
       "      <th>output_val_cos_sim['gener_answer_4']</th>\n",
       "      <td>0.001579</td>\n",
       "      <td>0.777565</td>\n",
       "      <td>0.937473</td>\n",
       "      <td>0.260393</td>\n",
       "      <td>NaN</td>\n",
       "    </tr>\n",
       "  </tbody>\n",
       "</table>\n",
       "</div>"
      ],
      "text/plain": [
       "Model                                 output_val_cos_sim['gener_answer_0']  \\\n",
       "Model                                                                        \n",
       "output_val_cos_sim['gener_answer_0']                                   NaN   \n",
       "output_val_cos_sim['gener_answer_1']                              0.001579   \n",
       "output_val_cos_sim['gener_answer_2']                              0.001045   \n",
       "output_val_cos_sim['gener_answer_3']                              0.001289   \n",
       "output_val_cos_sim['gener_answer_4']                              0.001579   \n",
       "\n",
       "Model                                 output_val_cos_sim['gener_answer_1']  \\\n",
       "Model                                                                        \n",
       "output_val_cos_sim['gener_answer_0']                                   NaN   \n",
       "output_val_cos_sim['gener_answer_1']                                   NaN   \n",
       "output_val_cos_sim['gener_answer_2']                              0.753152   \n",
       "output_val_cos_sim['gener_answer_3']                              0.382352   \n",
       "output_val_cos_sim['gener_answer_4']                              0.777565   \n",
       "\n",
       "Model                                 output_val_cos_sim['gener_answer_2']  \\\n",
       "Model                                                                        \n",
       "output_val_cos_sim['gener_answer_0']                                   NaN   \n",
       "output_val_cos_sim['gener_answer_1']                                   NaN   \n",
       "output_val_cos_sim['gener_answer_2']                                   NaN   \n",
       "output_val_cos_sim['gener_answer_3']                              0.182338   \n",
       "output_val_cos_sim['gener_answer_4']                              0.937473   \n",
       "\n",
       "Model                                 output_val_cos_sim['gener_answer_3']  \\\n",
       "Model                                                                        \n",
       "output_val_cos_sim['gener_answer_0']                                   NaN   \n",
       "output_val_cos_sim['gener_answer_1']                                   NaN   \n",
       "output_val_cos_sim['gener_answer_2']                                   NaN   \n",
       "output_val_cos_sim['gener_answer_3']                                   NaN   \n",
       "output_val_cos_sim['gener_answer_4']                              0.260393   \n",
       "\n",
       "Model                                 output_val_cos_sim['gener_answer_4']  \n",
       "Model                                                                       \n",
       "output_val_cos_sim['gener_answer_0']                                   NaN  \n",
       "output_val_cos_sim['gener_answer_1']                                   NaN  \n",
       "output_val_cos_sim['gener_answer_2']                                   NaN  \n",
       "output_val_cos_sim['gener_answer_3']                                   NaN  \n",
       "output_val_cos_sim['gener_answer_4']                                   NaN  "
      ]
     },
     "execution_count": 88,
     "metadata": {},
     "output_type": "execute_result"
    }
   ],
   "source": [
    "pval_matrix_f1"
   ]
  },
  {
   "cell_type": "markdown",
   "id": "acaa3dcb-4677-4a6a-bacc-345f7e280631",
   "metadata": {},
   "source": [
    "# Validation_set_output"
   ]
  },
  {
   "cell_type": "code",
   "execution_count": 3,
   "id": "7b8a6e06-87b3-4328-a8d6-276824e0c655",
   "metadata": {},
   "outputs": [],
   "source": [
    "output_val_cos_sim = pd.read_csv('valid_set_output.csv')"
   ]
  },
  {
   "cell_type": "code",
   "execution_count": 5,
   "id": "e821c3e3-1a7d-4d0b-83e9-f981498a3716",
   "metadata": {
    "scrolled": true
   },
   "outputs": [
    {
     "data": {
      "text/html": [
       "<div>\n",
       "<style scoped>\n",
       "    .dataframe tbody tr th:only-of-type {\n",
       "        vertical-align: middle;\n",
       "    }\n",
       "\n",
       "    .dataframe tbody tr th {\n",
       "        vertical-align: top;\n",
       "    }\n",
       "\n",
       "    .dataframe thead th {\n",
       "        text-align: right;\n",
       "    }\n",
       "</style>\n",
       "<table border=\"1\" class=\"dataframe\">\n",
       "  <thead>\n",
       "    <tr style=\"text-align: right;\">\n",
       "      <th></th>\n",
       "      <th>question</th>\n",
       "      <th>correct_answer</th>\n",
       "      <th>gener_answer_0</th>\n",
       "      <th>cosine_sim_0</th>\n",
       "      <th>gener_answer_1</th>\n",
       "      <th>cosine_sim_1</th>\n",
       "      <th>gener_answer_2</th>\n",
       "      <th>cosine_sim_2</th>\n",
       "      <th>gener_answer_3</th>\n",
       "      <th>cosine_sim_3</th>\n",
       "      <th>gener_answer_4</th>\n",
       "      <th>cosine_sim_4</th>\n",
       "    </tr>\n",
       "  </thead>\n",
       "  <tbody>\n",
       "    <tr>\n",
       "      <th>0</th>\n",
       "      <td>How can public transit infrastructure be enhan...</td>\n",
       "      <td>There are several ways to improve public trans...</td>\n",
       "      <td>Enhancing public transit infrastructure to bet...</td>\n",
       "      <td>0.789734</td>\n",
       "      <td>Public transit infrastructure can be enhanced ...</td>\n",
       "      <td>0.875823</td>\n",
       "      <td>Public transit infrastructure can be enhanced ...</td>\n",
       "      <td>0.846938</td>\n",
       "      <td>One way to enhance public transit infrastructu...</td>\n",
       "      <td>0.791335</td>\n",
       "      <td>One way to enhance public transit infrastructu...</td>\n",
       "      <td>0.791335</td>\n",
       "    </tr>\n",
       "    <tr>\n",
       "      <th>1</th>\n",
       "      <td>What are some widely used techniques for dimen...</td>\n",
       "      <td>There are several common techniques, including...</td>\n",
       "      <td>Dimensionality reduction is a critical step in...</td>\n",
       "      <td>0.600298</td>\n",
       "      <td>Some widely used techniques for dimensionality...</td>\n",
       "      <td>0.766737</td>\n",
       "      <td>Some widely used techniques for dimensionality...</td>\n",
       "      <td>0.766737</td>\n",
       "      <td>Some widely used techniques for dimensionality...</td>\n",
       "      <td>0.766737</td>\n",
       "      <td>Some widely used techniques for dimensionality...</td>\n",
       "      <td>0.766737</td>\n",
       "    </tr>\n",
       "    <tr>\n",
       "      <th>2</th>\n",
       "      <td>Have archaeologists studied other examples of ...</td>\n",
       "      <td>Yes, another example is the ancient trading ne...</td>\n",
       "      <td>Yes, archaeologists have extensively studied v...</td>\n",
       "      <td>0.627277</td>\n",
       "      <td>Yes, archaeologists have studied various econo...</td>\n",
       "      <td>0.636594</td>\n",
       "      <td>Yes, archaeologists have studied various econo...</td>\n",
       "      <td>0.653557</td>\n",
       "      <td>Yes, archaeologists have studied various econo...</td>\n",
       "      <td>0.734420</td>\n",
       "      <td>Yes, archaeologists have studied a variety of ...</td>\n",
       "      <td>0.633957</td>\n",
       "    </tr>\n",
       "    <tr>\n",
       "      <th>3</th>\n",
       "      <td>As a PhD student researching Tourism Managemen...</td>\n",
       "      <td>Online travel agencies have revolutionized the...</td>\n",
       "      <td>Your research topic is both timely and relevan...</td>\n",
       "      <td>0.695051</td>\n",
       "      <td>OTAs have certainly revolutionized the way peo...</td>\n",
       "      <td>0.658541</td>\n",
       "      <td>Online travel agencies have certainly disrupte...</td>\n",
       "      <td>0.932931</td>\n",
       "      <td>Online travel agencies have indeed disrupted t...</td>\n",
       "      <td>0.899400</td>\n",
       "      <td>Online travel agencies have indeed disrupted t...</td>\n",
       "      <td>0.899400</td>\n",
       "    </tr>\n",
       "    <tr>\n",
       "      <th>4</th>\n",
       "      <td>What are the potential drawbacks of using biol...</td>\n",
       "      <td>Like any medication, biologics can have side e...</td>\n",
       "      <td>Biologics, also known as biopharmaceuticals or...</td>\n",
       "      <td>0.567812</td>\n",
       "      <td>Biologics can be expensive and may have side e...</td>\n",
       "      <td>0.569426</td>\n",
       "      <td>Biologics can be expensive and may have a high...</td>\n",
       "      <td>0.663384</td>\n",
       "      <td>Biologics can be expensive and may have a high...</td>\n",
       "      <td>0.663384</td>\n",
       "      <td>Biologics are a type of medicine that are made...</td>\n",
       "      <td>0.619565</td>\n",
       "    </tr>\n",
       "    <tr>\n",
       "      <th>5</th>\n",
       "      <td>How does interstellar matter (ISM) influence t...</td>\n",
       "      <td>ISM plays a major role in the evolution of gal...</td>\n",
       "      <td>Interstellar matter (ISM), which includes gas,...</td>\n",
       "      <td>0.742343</td>\n",
       "      <td>Interstellar matter plays a crucial role in th...</td>\n",
       "      <td>0.684383</td>\n",
       "      <td>Interstellar matter plays a crucial role in th...</td>\n",
       "      <td>0.687536</td>\n",
       "      <td>Interstellar matter plays a crucial role in th...</td>\n",
       "      <td>0.687536</td>\n",
       "      <td>Interstellar matter plays a crucial role in th...</td>\n",
       "      <td>0.686287</td>\n",
       "    </tr>\n",
       "    <tr>\n",
       "      <th>6</th>\n",
       "      <td>What strategies can destinations implement to ...</td>\n",
       "      <td>Destinations can ensure that sports tourists h...</td>\n",
       "      <td>To ensure sports tourists have a positive expe...</td>\n",
       "      <td>0.787104</td>\n",
       "      <td>Destinations can implement a variety of strate...</td>\n",
       "      <td>0.898836</td>\n",
       "      <td>Destinations can implement a variety of strate...</td>\n",
       "      <td>0.895904</td>\n",
       "      <td>One strategy is to offer a variety of sports a...</td>\n",
       "      <td>0.788839</td>\n",
       "      <td>Destinations can implement a variety of strate...</td>\n",
       "      <td>0.875909</td>\n",
       "    </tr>\n",
       "    <tr>\n",
       "      <th>7</th>\n",
       "      <td>What are some typical challenges encountered d...</td>\n",
       "      <td>Some common challenges include missing data, i...</td>\n",
       "      <td>Data preprocessing is a crucial step in the da...</td>\n",
       "      <td>0.654332</td>\n",
       "      <td>Some common challenges during data preprocessi...</td>\n",
       "      <td>0.661287</td>\n",
       "      <td>Some common challenges during data preprocessi...</td>\n",
       "      <td>0.661287</td>\n",
       "      <td>Some common challenges during data preprocessi...</td>\n",
       "      <td>0.661287</td>\n",
       "      <td>Some common challenges during data preprocessi...</td>\n",
       "      <td>0.661287</td>\n",
       "    </tr>\n",
       "    <tr>\n",
       "      <th>8</th>\n",
       "      <td>As a PhD student, I am keen to explore adventu...</td>\n",
       "      <td>Adventure tourism is a form of tourism that in...</td>\n",
       "      <td>Adventure tourism is a growing industry that o...</td>\n",
       "      <td>0.761812</td>\n",
       "      <td>Adventure tourism can have both positive and n...</td>\n",
       "      <td>0.776899</td>\n",
       "      <td>Adventure tourism can have both positive and n...</td>\n",
       "      <td>0.784490</td>\n",
       "      <td>Adventure tourism can have both positive and n...</td>\n",
       "      <td>0.768110</td>\n",
       "      <td>Adventure tourism can have both positive and n...</td>\n",
       "      <td>0.782229</td>\n",
       "    </tr>\n",
       "    <tr>\n",
       "      <th>9</th>\n",
       "      <td>What strategies or techniques do tour planners...</td>\n",
       "      <td>One strategy that tour planners often use is t...</td>\n",
       "      <td>Tour planners use various strategies and techn...</td>\n",
       "      <td>0.844970</td>\n",
       "      <td>Tour planners often use a combination of resea...</td>\n",
       "      <td>0.850285</td>\n",
       "      <td>Tour planners use a variety of strategies to c...</td>\n",
       "      <td>0.750633</td>\n",
       "      <td>Tour planners use a variety of strategies and ...</td>\n",
       "      <td>0.845636</td>\n",
       "      <td>Tour planners use a variety of strategies and ...</td>\n",
       "      <td>0.849277</td>\n",
       "    </tr>\n",
       "    <tr>\n",
       "      <th>10</th>\n",
       "      <td>As a PhD student in Computer Science, I am exp...</td>\n",
       "      <td>Certainly, there are several types of data min...</td>\n",
       "      <td>Data mining is a process used to extract valua...</td>\n",
       "      <td>0.832015</td>\n",
       "      <td>Certainly. There are several types of data min...</td>\n",
       "      <td>0.804201</td>\n",
       "      <td>Certainly. There are several types of data min...</td>\n",
       "      <td>0.810808</td>\n",
       "      <td>Certainly. There are several types of data min...</td>\n",
       "      <td>0.777118</td>\n",
       "      <td>Certainly. There are several types of data min...</td>\n",
       "      <td>0.808777</td>\n",
       "    </tr>\n",
       "    <tr>\n",
       "      <th>11</th>\n",
       "      <td>Please, answer: how accurate is Action Recogni...</td>\n",
       "      <td>The accuracy of Action Recognition models can ...</td>\n",
       "      <td>Action Recognition technology, which falls und...</td>\n",
       "      <td>0.876618</td>\n",
       "      <td>Action Recognition technology has improved sig...</td>\n",
       "      <td>0.802471</td>\n",
       "      <td>The accuracy of Action Recognition technology ...</td>\n",
       "      <td>0.817162</td>\n",
       "      <td>The accuracy of Action Recognition technology ...</td>\n",
       "      <td>0.831214</td>\n",
       "      <td>Action Recognition technology has improved sig...</td>\n",
       "      <td>0.795514</td>\n",
       "    </tr>\n",
       "    <tr>\n",
       "      <th>12</th>\n",
       "      <td>What challenges are hindering the implementati...</td>\n",
       "      <td>There are a few challenges. For example, the c...</td>\n",
       "      <td>The implementation of Collaborative Decision M...</td>\n",
       "      <td>0.478041</td>\n",
       "      <td>One of the main challenges is the lack of stan...</td>\n",
       "      <td>0.407719</td>\n",
       "      <td>One of the main challenges is the lack of stan...</td>\n",
       "      <td>0.496804</td>\n",
       "      <td>One of the main challenges is the lack of stan...</td>\n",
       "      <td>0.478460</td>\n",
       "      <td>One of the main challenges is the lack of stan...</td>\n",
       "      <td>0.503707</td>\n",
       "    </tr>\n",
       "    <tr>\n",
       "      <th>13</th>\n",
       "      <td>What are some different approaches to language...</td>\n",
       "      <td>Well, for example, the grammar-translation met...</td>\n",
       "      <td>Besides communicative language teaching (CLT),...</td>\n",
       "      <td>0.688372</td>\n",
       "      <td>There are several approaches to language pedag...</td>\n",
       "      <td>0.690115</td>\n",
       "      <td>There are several approaches to language pedag...</td>\n",
       "      <td>0.670720</td>\n",
       "      <td>There are several approaches to language pedag...</td>\n",
       "      <td>0.681900</td>\n",
       "      <td>There are several approaches to language pedag...</td>\n",
       "      <td>0.681900</td>\n",
       "    </tr>\n",
       "    <tr>\n",
       "      <th>14</th>\n",
       "      <td>What are some key theories and methods employe...</td>\n",
       "      <td>One of the key theories used in Ethnology is c...</td>\n",
       "      <td>Ethnology, a branch of anthropology, is the co...</td>\n",
       "      <td>0.809063</td>\n",
       "      <td>Ethnology employs a variety of theories and me...</td>\n",
       "      <td>0.802850</td>\n",
       "      <td>Ethnology employs a variety of theories and me...</td>\n",
       "      <td>0.840923</td>\n",
       "      <td>Ethnology is a subfield of anthropology that f...</td>\n",
       "      <td>0.743801</td>\n",
       "      <td>Ethnology is a subfield of anthropology that f...</td>\n",
       "      <td>0.743801</td>\n",
       "    </tr>\n",
       "    <tr>\n",
       "      <th>15</th>\n",
       "      <td>How do ethnohistorians overcome the challenge ...</td>\n",
       "      <td>Ethnohistorians must rely on a variety of sour...</td>\n",
       "      <td>Ethnohistorians face the significant challenge...</td>\n",
       "      <td>0.875501</td>\n",
       "      <td>Ethnohistorians use a variety of methods to ov...</td>\n",
       "      <td>0.776781</td>\n",
       "      <td>Ethnohistorians use a variety of methods to ov...</td>\n",
       "      <td>0.792179</td>\n",
       "      <td>Ethnohistorians use a variety of methods to ov...</td>\n",
       "      <td>0.799841</td>\n",
       "      <td>Ethnohistorians use a variety of methods to ov...</td>\n",
       "      <td>0.765598</td>\n",
       "    </tr>\n",
       "    <tr>\n",
       "      <th>16</th>\n",
       "      <td>What I should know about AutoML?</td>\n",
       "      <td>Yes, it's important to note that while AutoML ...</td>\n",
       "      <td>AutoML, or Automated Machine Learning, refers ...</td>\n",
       "      <td>0.773229</td>\n",
       "      <td>AutoML stands for Automated Machine Learning. ...</td>\n",
       "      <td>0.765233</td>\n",
       "      <td>AutoML stands for Automated Machine Learning. ...</td>\n",
       "      <td>0.765233</td>\n",
       "      <td>AutoML stands for Automated Machine Learning. ...</td>\n",
       "      <td>0.765233</td>\n",
       "      <td>AutoML stands for Automated Machine Learning. ...</td>\n",
       "      <td>0.765233</td>\n",
       "    </tr>\n",
       "    <tr>\n",
       "      <th>17</th>\n",
       "      <td>What methods do astronomers apply to detect ex...</td>\n",
       "      <td>There are several methods used to detect exopl...</td>\n",
       "      <td>Astronomers use several methods to detect exop...</td>\n",
       "      <td>0.883085</td>\n",
       "      <td>Astronomers use a variety of methods to detect...</td>\n",
       "      <td>0.931947</td>\n",
       "      <td>Astronomers use a variety of methods to detect...</td>\n",
       "      <td>0.931947</td>\n",
       "      <td>Astronomers use a variety of methods to detect...</td>\n",
       "      <td>0.931947</td>\n",
       "      <td>Astronomers use a variety of methods to detect...</td>\n",
       "      <td>0.931947</td>\n",
       "    </tr>\n",
       "  </tbody>\n",
       "</table>\n",
       "</div>"
      ],
      "text/plain": [
       "                                             question  \\\n",
       "0   How can public transit infrastructure be enhan...   \n",
       "1   What are some widely used techniques for dimen...   \n",
       "2   Have archaeologists studied other examples of ...   \n",
       "3   As a PhD student researching Tourism Managemen...   \n",
       "4   What are the potential drawbacks of using biol...   \n",
       "5   How does interstellar matter (ISM) influence t...   \n",
       "6   What strategies can destinations implement to ...   \n",
       "7   What are some typical challenges encountered d...   \n",
       "8   As a PhD student, I am keen to explore adventu...   \n",
       "9   What strategies or techniques do tour planners...   \n",
       "10  As a PhD student in Computer Science, I am exp...   \n",
       "11  Please, answer: how accurate is Action Recogni...   \n",
       "12  What challenges are hindering the implementati...   \n",
       "13  What are some different approaches to language...   \n",
       "14  What are some key theories and methods employe...   \n",
       "15  How do ethnohistorians overcome the challenge ...   \n",
       "16                   What I should know about AutoML?   \n",
       "17  What methods do astronomers apply to detect ex...   \n",
       "\n",
       "                                       correct_answer  \\\n",
       "0   There are several ways to improve public trans...   \n",
       "1   There are several common techniques, including...   \n",
       "2   Yes, another example is the ancient trading ne...   \n",
       "3   Online travel agencies have revolutionized the...   \n",
       "4   Like any medication, biologics can have side e...   \n",
       "5   ISM plays a major role in the evolution of gal...   \n",
       "6   Destinations can ensure that sports tourists h...   \n",
       "7   Some common challenges include missing data, i...   \n",
       "8   Adventure tourism is a form of tourism that in...   \n",
       "9   One strategy that tour planners often use is t...   \n",
       "10  Certainly, there are several types of data min...   \n",
       "11  The accuracy of Action Recognition models can ...   \n",
       "12  There are a few challenges. For example, the c...   \n",
       "13  Well, for example, the grammar-translation met...   \n",
       "14  One of the key theories used in Ethnology is c...   \n",
       "15  Ethnohistorians must rely on a variety of sour...   \n",
       "16  Yes, it's important to note that while AutoML ...   \n",
       "17  There are several methods used to detect exopl...   \n",
       "\n",
       "                                       gener_answer_0  cosine_sim_0  \\\n",
       "0   Enhancing public transit infrastructure to bet...      0.789734   \n",
       "1   Dimensionality reduction is a critical step in...      0.600298   \n",
       "2   Yes, archaeologists have extensively studied v...      0.627277   \n",
       "3   Your research topic is both timely and relevan...      0.695051   \n",
       "4   Biologics, also known as biopharmaceuticals or...      0.567812   \n",
       "5   Interstellar matter (ISM), which includes gas,...      0.742343   \n",
       "6   To ensure sports tourists have a positive expe...      0.787104   \n",
       "7   Data preprocessing is a crucial step in the da...      0.654332   \n",
       "8   Adventure tourism is a growing industry that o...      0.761812   \n",
       "9   Tour planners use various strategies and techn...      0.844970   \n",
       "10  Data mining is a process used to extract valua...      0.832015   \n",
       "11  Action Recognition technology, which falls und...      0.876618   \n",
       "12  The implementation of Collaborative Decision M...      0.478041   \n",
       "13  Besides communicative language teaching (CLT),...      0.688372   \n",
       "14  Ethnology, a branch of anthropology, is the co...      0.809063   \n",
       "15  Ethnohistorians face the significant challenge...      0.875501   \n",
       "16  AutoML, or Automated Machine Learning, refers ...      0.773229   \n",
       "17  Astronomers use several methods to detect exop...      0.883085   \n",
       "\n",
       "                                       gener_answer_1  cosine_sim_1  \\\n",
       "0   Public transit infrastructure can be enhanced ...      0.875823   \n",
       "1   Some widely used techniques for dimensionality...      0.766737   \n",
       "2   Yes, archaeologists have studied various econo...      0.636594   \n",
       "3   OTAs have certainly revolutionized the way peo...      0.658541   \n",
       "4   Biologics can be expensive and may have side e...      0.569426   \n",
       "5   Interstellar matter plays a crucial role in th...      0.684383   \n",
       "6   Destinations can implement a variety of strate...      0.898836   \n",
       "7   Some common challenges during data preprocessi...      0.661287   \n",
       "8   Adventure tourism can have both positive and n...      0.776899   \n",
       "9   Tour planners often use a combination of resea...      0.850285   \n",
       "10  Certainly. There are several types of data min...      0.804201   \n",
       "11  Action Recognition technology has improved sig...      0.802471   \n",
       "12  One of the main challenges is the lack of stan...      0.407719   \n",
       "13  There are several approaches to language pedag...      0.690115   \n",
       "14  Ethnology employs a variety of theories and me...      0.802850   \n",
       "15  Ethnohistorians use a variety of methods to ov...      0.776781   \n",
       "16  AutoML stands for Automated Machine Learning. ...      0.765233   \n",
       "17  Astronomers use a variety of methods to detect...      0.931947   \n",
       "\n",
       "                                       gener_answer_2  cosine_sim_2  \\\n",
       "0   Public transit infrastructure can be enhanced ...      0.846938   \n",
       "1   Some widely used techniques for dimensionality...      0.766737   \n",
       "2   Yes, archaeologists have studied various econo...      0.653557   \n",
       "3   Online travel agencies have certainly disrupte...      0.932931   \n",
       "4   Biologics can be expensive and may have a high...      0.663384   \n",
       "5   Interstellar matter plays a crucial role in th...      0.687536   \n",
       "6   Destinations can implement a variety of strate...      0.895904   \n",
       "7   Some common challenges during data preprocessi...      0.661287   \n",
       "8   Adventure tourism can have both positive and n...      0.784490   \n",
       "9   Tour planners use a variety of strategies to c...      0.750633   \n",
       "10  Certainly. There are several types of data min...      0.810808   \n",
       "11  The accuracy of Action Recognition technology ...      0.817162   \n",
       "12  One of the main challenges is the lack of stan...      0.496804   \n",
       "13  There are several approaches to language pedag...      0.670720   \n",
       "14  Ethnology employs a variety of theories and me...      0.840923   \n",
       "15  Ethnohistorians use a variety of methods to ov...      0.792179   \n",
       "16  AutoML stands for Automated Machine Learning. ...      0.765233   \n",
       "17  Astronomers use a variety of methods to detect...      0.931947   \n",
       "\n",
       "                                       gener_answer_3  cosine_sim_3  \\\n",
       "0   One way to enhance public transit infrastructu...      0.791335   \n",
       "1   Some widely used techniques for dimensionality...      0.766737   \n",
       "2   Yes, archaeologists have studied various econo...      0.734420   \n",
       "3   Online travel agencies have indeed disrupted t...      0.899400   \n",
       "4   Biologics can be expensive and may have a high...      0.663384   \n",
       "5   Interstellar matter plays a crucial role in th...      0.687536   \n",
       "6   One strategy is to offer a variety of sports a...      0.788839   \n",
       "7   Some common challenges during data preprocessi...      0.661287   \n",
       "8   Adventure tourism can have both positive and n...      0.768110   \n",
       "9   Tour planners use a variety of strategies and ...      0.845636   \n",
       "10  Certainly. There are several types of data min...      0.777118   \n",
       "11  The accuracy of Action Recognition technology ...      0.831214   \n",
       "12  One of the main challenges is the lack of stan...      0.478460   \n",
       "13  There are several approaches to language pedag...      0.681900   \n",
       "14  Ethnology is a subfield of anthropology that f...      0.743801   \n",
       "15  Ethnohistorians use a variety of methods to ov...      0.799841   \n",
       "16  AutoML stands for Automated Machine Learning. ...      0.765233   \n",
       "17  Astronomers use a variety of methods to detect...      0.931947   \n",
       "\n",
       "                                       gener_answer_4  cosine_sim_4  \n",
       "0   One way to enhance public transit infrastructu...      0.791335  \n",
       "1   Some widely used techniques for dimensionality...      0.766737  \n",
       "2   Yes, archaeologists have studied a variety of ...      0.633957  \n",
       "3   Online travel agencies have indeed disrupted t...      0.899400  \n",
       "4   Biologics are a type of medicine that are made...      0.619565  \n",
       "5   Interstellar matter plays a crucial role in th...      0.686287  \n",
       "6   Destinations can implement a variety of strate...      0.875909  \n",
       "7   Some common challenges during data preprocessi...      0.661287  \n",
       "8   Adventure tourism can have both positive and n...      0.782229  \n",
       "9   Tour planners use a variety of strategies and ...      0.849277  \n",
       "10  Certainly. There are several types of data min...      0.808777  \n",
       "11  Action Recognition technology has improved sig...      0.795514  \n",
       "12  One of the main challenges is the lack of stan...      0.503707  \n",
       "13  There are several approaches to language pedag...      0.681900  \n",
       "14  Ethnology is a subfield of anthropology that f...      0.743801  \n",
       "15  Ethnohistorians use a variety of methods to ov...      0.765598  \n",
       "16  AutoML stands for Automated Machine Learning. ...      0.765233  \n",
       "17  Astronomers use a variety of methods to detect...      0.931947  "
      ]
     },
     "execution_count": 5,
     "metadata": {},
     "output_type": "execute_result"
    }
   ],
   "source": [
    "output_val_cos_sim"
   ]
  },
  {
   "cell_type": "code",
   "execution_count": 52,
   "id": "b29b2381-f96f-46bd-b44f-f8352ef5eb51",
   "metadata": {},
   "outputs": [
    {
     "data": {
      "text/plain": [
       "\"Dimensionality reduction is a critical step in data preprocessing, especially in machine learning, where it helps to simplify models, reduce overfitting, and decrease computational costs. Here are some widely used techniques for dimensionality reduction:\\n\\n1. **Principal Component Analysis (PCA):**\\n   - PCA is a statistical procedure that uses an orthogonal transformation to convert a set of observations of possibly correlated variables into a set of linearly uncorrelated variables called principal components. The first principal component accounts for as much of the variability in the data as possible.\\n   - It's widely used for noise reduction and feature extraction.\\n\\n2. **Linear Discriminant Analysis (LDA):**\\n   - LDA is used for finding the linear combinations of features that best separate two or more classes. It's particularly useful when the goal is to maximize class separability.\\n   - Unlike PCA, LDA takes class labels into\""
      ]
     },
     "execution_count": 52,
     "metadata": {},
     "output_type": "execute_result"
    }
   ],
   "source": [
    "output_val_cos_sim.loc[1, 'gener_answer_0']"
   ]
  },
  {
   "cell_type": "markdown",
   "id": "d3edee07-2bcd-4754-81f8-0c4438546710",
   "metadata": {},
   "source": [
    "### Statistical signifiance"
   ]
  },
  {
   "cell_type": "code",
   "execution_count": null,
   "id": "b0d69c35-ad8a-4e83-818f-1c41b54731f6",
   "metadata": {},
   "outputs": [],
   "source": []
  },
  {
   "cell_type": "code",
   "execution_count": 28,
   "id": "2c577fd1-6366-495b-b54d-857454592e87",
   "metadata": {},
   "outputs": [],
   "source": [
    "from scipy.stats import wilcoxon"
   ]
  },
  {
   "cell_type": "code",
   "execution_count": 92,
   "id": "f2eeaaa4-dc99-4fd2-a6a0-eceec8563074",
   "metadata": {
    "scrolled": true
   },
   "outputs": [
    {
     "data": {
      "text/plain": [
       "0.5798416137695312"
      ]
     },
     "execution_count": 92,
     "metadata": {},
     "output_type": "execute_result"
    }
   ],
   "source": [
    "stat, p_value = wilcoxon(output_val_cos_sim['cosine_sim_0'], output_val_cos_sim['cosine_sim_4'])\n",
    "p_value"
   ]
  },
  {
   "cell_type": "markdown",
   "id": "24869e21-608b-4d13-8fa9-c03ba1d56d55",
   "metadata": {},
   "source": [
    "## Analize the distribution of cosing similarity"
   ]
  },
  {
   "cell_type": "markdown",
   "id": "6b2620c9-7931-47ac-9fe0-a89934a2324a",
   "metadata": {},
   "source": [
    "### Through all epochs (to see how cosin similarity changes after each epoch in every valid_question)"
   ]
  },
  {
   "cell_type": "code",
   "execution_count": 11,
   "id": "9dfa9494-6864-45b7-9232-8da8f52627c0",
   "metadata": {},
   "outputs": [
    {
     "data": {
      "text/plain": [
       "5"
      ]
     },
     "execution_count": 11,
     "metadata": {},
     "output_type": "execute_result"
    }
   ],
   "source": [
    "column_count = len([col for col in output_val_cos_sim.columns if col.startswith('cosine_sim')])\n",
    "column_count"
   ]
  },
  {
   "cell_type": "code",
   "execution_count": 8,
   "id": "318a802f-5f5a-456c-843f-a3cb7fca9f99",
   "metadata": {},
   "outputs": [
    {
     "data": {
      "image/png": "[encoded data removed]",
      "text/plain": [
       "<Figure size 640x480 with 1 Axes>"
      ]
     },
     "metadata": {},
     "output_type": "display_data"
    }
   ],
   "source": [
    "fig, ax = plt.subplots()\n",
    "for num_epoch in np.arange(column_count):\n",
    "    ax.scatter(output_val_cos_sim['cosine_sim_' + str(num_epoch)], np.full(output_val_cos_sim.shape[0], num_epoch), label='cosine_sim_' + str(num_epoch))\n",
    "box = ax.get_position()\n",
    "ax.set_position([box.x0, box.y0, box.width * 0.8, box.height])\n",
    "ax.legend(loc='center left', bbox_to_anchor=(1, 0.5))\n",
    "ax.set_xlabel('Cosine similarity')\n",
    "ax.set_ylabel('Epoch')\n",
    "plt.title('Cosine Similarity Analysis of Validation Set Questions Across Epochs')\n",
    "plt.show()"
   ]
  },
  {
   "cell_type": "code",
   "execution_count": 22,
   "id": "e3e13ac5-ee36-4145-a48f-c582b17e90d9",
   "metadata": {},
   "outputs": [
    {
     "data": {
      "image/png": "[encoded data removed]",
      "text/plain": [
       "<Figure size 640x480 with 1 Axes>"
      ]
     },
     "metadata": {},
     "output_type": "display_data"
    }
   ],
   "source": [
    "fig, ax = plt.subplots()\n",
    "\n",
    "# Extract data for all epochs\n",
    "column_count = 5  # Total number of epochs (0, 1, 2, 3, 4)\n",
    "data = [output_val_cos_sim[f'cosine_sim_{epoch}'] for epoch in range(0, column_count)]\n",
    "\n",
    "# Create the boxplot\n",
    "ax.boxplot(data, positions=np.arange(column_count))\n",
    "\n",
    "# Adjust plot appearance\n",
    "ax.set_xlabel('Epoch')\n",
    "ax.set_ylabel('Cosine Similarity')\n",
    "ax.set_title('Cosine Similarity Analysis of Validation Set Questions Across Epochs')\n",
    "ax.set_xticks(np.arange(column_count))\n",
    "ax.set_xticklabels([f'Epoch {i}' for i in range(column_count)])\n",
    "\n",
    "# Show the plot\n",
    "plt.show()"
   ]
  },
  {
   "cell_type": "markdown",
   "id": "30bf6054-65bd-41c5-a447-d9cd0a4afe98",
   "metadata": {},
   "source": [
    "### Distribution through each epoch"
   ]
  },
  {
   "cell_type": "code",
   "execution_count": 10,
   "id": "7525f68e-2e9f-42b5-9189-569e78fbc583",
   "metadata": {
    "scrolled": true
   },
   "outputs": [
    {
     "data": {
      "image/png": "[encoded data removed]",
      "text/plain": [
       "<Figure size 640x480 with 1 Axes>"
      ]
     },
     "metadata": {},
     "output_type": "display_data"
    },
    {
     "data": {
      "image/png": "[encoded data removed]",
      "text/plain": [
       "<Figure size 640x480 with 1 Axes>"
      ]
     },
     "metadata": {},
     "output_type": "display_data"
    },
    {
     "data": {
      "image/png": "[encoded data removed]",
      "text/plain": [
       "<Figure size 640x480 with 1 Axes>"
      ]
     },
     "metadata": {},
     "output_type": "display_data"
    },
    {
     "data": {
      "image/png": "[encoded data removed]",
      "text/plain": [
       "<Figure size 640x480 with 1 Axes>"
      ]
     },
     "metadata": {},
     "output_type": "display_data"
    },
    {
     "data": {
      "image/png": "[encoded data removed]",
      "text/plain": [
       "<Figure size 640x480 with 1 Axes>"
      ]
     },
     "metadata": {},
     "output_type": "display_data"
    }
   ],
   "source": [
    "for i in range(column_count):\n",
    "    sns.histplot(data=output_val_cos_sim, x=f'cosine_sim_{i}', kde=True)\n",
    "    plt.title(f'Distribution of cosine_sim across {i} epoch')\n",
    "    plt.show()"
   ]
  },
  {
   "cell_type": "markdown",
   "id": "0bc5aea4-a6c5-424f-9cf8-0b1f4ab91724",
   "metadata": {},
   "source": [
    "## Create df: epoch - cosing similarity"
   ]
  },
  {
   "cell_type": "code",
   "execution_count": 13,
   "id": "1b98c587-c31c-4280-b064-5a8abd97bb8c",
   "metadata": {},
   "outputs": [],
   "source": [
    "cos_sim_epoch_dic = {'epoch': [], 'cosine_sim_median': []}\n",
    "for num_epoch in np.arange(column_count):\n",
    "    cos_sim_epoch_dic['epoch'].append(num_epoch)\n",
    "    cos_sim_epoch_dic['cosine_sim_median'].append(output_val_cos_sim['cosine_sim_'+ str(num_epoch)].median())\n",
    "cos_sim_epoch_df = pd.DataFrame(cos_sim_epoch_dic)"
   ]
  },
  {
   "cell_type": "code",
   "execution_count": 15,
   "id": "a30e2246-435a-4806-8c14-035bf5646310",
   "metadata": {},
   "outputs": [
    {
     "data": {
      "text/html": [
       "<div>\n",
       "<style scoped>\n",
       "    .dataframe tbody tr th:only-of-type {\n",
       "        vertical-align: middle;\n",
       "    }\n",
       "\n",
       "    .dataframe tbody tr th {\n",
       "        vertical-align: top;\n",
       "    }\n",
       "\n",
       "    .dataframe thead th {\n",
       "        text-align: right;\n",
       "    }\n",
       "</style>\n",
       "<table border=\"1\" class=\"dataframe\">\n",
       "  <thead>\n",
       "    <tr style=\"text-align: right;\">\n",
       "      <th></th>\n",
       "      <th>epoch</th>\n",
       "      <th>cosine_sim_median</th>\n",
       "    </tr>\n",
       "  </thead>\n",
       "  <tbody>\n",
       "    <tr>\n",
       "      <th>0</th>\n",
       "      <td>0</td>\n",
       "      <td>0.767520</td>\n",
       "    </tr>\n",
       "    <tr>\n",
       "      <th>1</th>\n",
       "      <td>1</td>\n",
       "      <td>0.771759</td>\n",
       "    </tr>\n",
       "    <tr>\n",
       "      <th>2</th>\n",
       "      <td>2</td>\n",
       "      <td>0.775613</td>\n",
       "    </tr>\n",
       "    <tr>\n",
       "      <th>3</th>\n",
       "      <td>3</td>\n",
       "      <td>0.767423</td>\n",
       "    </tr>\n",
       "    <tr>\n",
       "      <th>4</th>\n",
       "      <td>4</td>\n",
       "      <td>0.766167</td>\n",
       "    </tr>\n",
       "  </tbody>\n",
       "</table>\n",
       "</div>"
      ],
      "text/plain": [
       "   epoch  cosine_sim_median\n",
       "0      0           0.767520\n",
       "1      1           0.771759\n",
       "2      2           0.775613\n",
       "3      3           0.767423\n",
       "4      4           0.766167"
      ]
     },
     "execution_count": 15,
     "metadata": {},
     "output_type": "execute_result"
    }
   ],
   "source": [
    "cos_sim_epoch_df"
   ]
  },
  {
   "cell_type": "code",
   "execution_count": 17,
   "id": "4221737a-f6f2-4c99-9689-8a70b3e645ef",
   "metadata": {},
   "outputs": [
    {
     "data": {
      "image/png": "[encoded data removed]",
      "text/plain": [
       "<Figure size 640x480 with 1 Axes>"
      ]
     },
     "metadata": {},
     "output_type": "display_data"
    }
   ],
   "source": [
    "sns.lineplot(data = cos_sim_epoch_df, x = 'epoch', y = 'cosine_sim_median', marker ='o')\n",
    "plt.title('Median Cosine Similarity Across Epochs (Validation Set)')\n",
    "plt.grid()"
   ]
  },
  {
   "cell_type": "markdown",
   "id": "2807a006-878f-4c45-8001-24ba000b8500",
   "metadata": {},
   "source": [
    "## Define which topic is necessary for improving using prompt"
   ]
  },
  {
   "cell_type": "code",
   "execution_count": 16,
   "id": "adc641f2-a01a-4cd6-99e6-f1fa57437839",
   "metadata": {},
   "outputs": [
    {
     "data": {
      "text/html": [
       "<div>\n",
       "<style scoped>\n",
       "    .dataframe tbody tr th:only-of-type {\n",
       "        vertical-align: middle;\n",
       "    }\n",
       "\n",
       "    .dataframe tbody tr th {\n",
       "        vertical-align: top;\n",
       "    }\n",
       "\n",
       "    .dataframe thead th {\n",
       "        text-align: right;\n",
       "    }\n",
       "</style>\n",
       "<table border=\"1\" class=\"dataframe\">\n",
       "  <thead>\n",
       "    <tr style=\"text-align: right;\">\n",
       "      <th></th>\n",
       "      <th>question</th>\n",
       "      <th>correct_answer</th>\n",
       "      <th>gener_answer_0</th>\n",
       "      <th>cosine_sim_0</th>\n",
       "      <th>gener_answer_1</th>\n",
       "      <th>cosine_sim_1</th>\n",
       "      <th>gener_answer_2</th>\n",
       "      <th>cosine_sim_2</th>\n",
       "      <th>gener_answer_3</th>\n",
       "      <th>cosine_sim_3</th>\n",
       "      <th>gener_answer_4</th>\n",
       "      <th>cosine_sim_4</th>\n",
       "    </tr>\n",
       "  </thead>\n",
       "  <tbody>\n",
       "    <tr>\n",
       "      <th>12</th>\n",
       "      <td>What challenges are hindering the implementati...</td>\n",
       "      <td>There are a few challenges. For example, the c...</td>\n",
       "      <td>The implementation of Collaborative Decision M...</td>\n",
       "      <td>0.478041</td>\n",
       "      <td>One of the main challenges is the lack of stan...</td>\n",
       "      <td>0.407719</td>\n",
       "      <td>One of the main challenges is the lack of stan...</td>\n",
       "      <td>0.496804</td>\n",
       "      <td>One of the main challenges is the lack of stan...</td>\n",
       "      <td>0.47846</td>\n",
       "      <td>One of the main challenges is the lack of stan...</td>\n",
       "      <td>0.503707</td>\n",
       "    </tr>\n",
       "  </tbody>\n",
       "</table>\n",
       "</div>"
      ],
      "text/plain": [
       "                                             question  \\\n",
       "12  What challenges are hindering the implementati...   \n",
       "\n",
       "                                       correct_answer  \\\n",
       "12  There are a few challenges. For example, the c...   \n",
       "\n",
       "                                       gener_answer_0  cosine_sim_0  \\\n",
       "12  The implementation of Collaborative Decision M...      0.478041   \n",
       "\n",
       "                                       gener_answer_1  cosine_sim_1  \\\n",
       "12  One of the main challenges is the lack of stan...      0.407719   \n",
       "\n",
       "                                       gener_answer_2  cosine_sim_2  \\\n",
       "12  One of the main challenges is the lack of stan...      0.496804   \n",
       "\n",
       "                                       gener_answer_3  cosine_sim_3  \\\n",
       "12  One of the main challenges is the lack of stan...       0.47846   \n",
       "\n",
       "                                       gener_answer_4  cosine_sim_4  \n",
       "12  One of the main challenges is the lack of stan...      0.503707  "
      ]
     },
     "execution_count": 16,
     "metadata": {},
     "output_type": "execute_result"
    }
   ],
   "source": [
    "output_val_cos_sim[output_val_cos_sim['cosine_sim_2'] < 0.6]"
   ]
  },
  {
   "cell_type": "code",
   "execution_count": 17,
   "id": "47984834-9c19-41b4-ad23-150a8849994b",
   "metadata": {},
   "outputs": [],
   "source": [
    "best_epoch = 2"
   ]
  },
  {
   "cell_type": "markdown",
   "id": "e88a4e05-6d78-4e72-8f8e-44c3d87946f1",
   "metadata": {},
   "source": [
    "# Test_set_output"
   ]
  },
  {
   "cell_type": "code",
   "execution_count": 5,
   "id": "f2d19c21-6e5f-4c0b-8ac9-905c6f864937",
   "metadata": {},
   "outputs": [],
   "source": [
    "output_test_cos_sim = pd.read_csv('test_set_output.csv')"
   ]
  },
  {
   "cell_type": "markdown",
   "id": "3f549a12-563f-4d26-856b-410c8c28f4ba",
   "metadata": {},
   "source": [
    "## Analize the distribution of cosing similarity"
   ]
  },
  {
   "cell_type": "markdown",
   "id": "9b8b1f1a-29e4-443b-ac51-2c81f678ee90",
   "metadata": {},
   "source": [
    "### Through the epoch"
   ]
  },
  {
   "cell_type": "code",
   "execution_count": 7,
   "id": "6f2b89a5-0610-458e-ac79-753675d4fec2",
   "metadata": {},
   "outputs": [],
   "source": [
    "best_epoch = 2"
   ]
  },
  {
   "cell_type": "code",
   "execution_count": 13,
   "id": "1033ba70-a881-4ac7-9b59-d05a5c2f49db",
   "metadata": {},
   "outputs": [
    {
     "data": {
      "image/png": "[encoded data removed]",
      "text/plain": [
       "<Figure size 640x480 with 1 Axes>"
      ]
     },
     "metadata": {},
     "output_type": "display_data"
    }
   ],
   "source": [
    "sns.scatterplot(x=output_test_cos_sim['cosine_sim_0'], y=np.full(output_test_cos_sim.shape[0], best_epoch))\n",
    "plt.title('Cosine Similarity Analysis of Test Set Questions Across '+str(best_epoch)+ ' Epoch')\n",
    "plt.xlabel('Cosine Similarity')\n",
    "plt.ylabel('Epoch')\n",
    "plt.show()"
   ]
  },
  {
   "cell_type": "code",
   "execution_count": null,
   "id": "35a6462d-6543-4ad1-b0e5-e18c66a42b2d",
   "metadata": {},
   "outputs": [],
   "source": [
    "sns.histplot(data=output_test_cos_sim, x=output_test_cos_sim['cosine_sim_0'], kde=True)\n",
    "plt.title('Distribution of cosine_sim across '+ str(best_epoch)+ ' epoch')\n",
    "plt.show()"
   ]
  },
  {
   "cell_type": "markdown",
   "id": "9c45071c-f1a6-48cb-86fa-8cfbee05d296",
   "metadata": {},
   "source": [
    "### Distribution through the epoch"
   ]
  },
  {
   "cell_type": "code",
   "execution_count": 25,
   "id": "ae6bdcc8-065d-45ef-a13f-70489d3bb225",
   "metadata": {},
   "outputs": [
    {
     "data": {
      "image/png": "[encoded data removed]",
      "text/plain": [
       "<Figure size 640x480 with 1 Axes>"
      ]
     },
     "metadata": {},
     "output_type": "display_data"
    }
   ],
   "source": [
    "median_value = np.median(output_test_cos_sim['cosine_sim_0'])\n",
    "sns.histplot(data=output_test_cos_sim, x=output_test_cos_sim['cosine_sim_0'], kde=True)\n",
    "plt.axvline(median_value, color='red', linestyle='--', label=f'Median = {median_value:.2f}')\n",
    "plt.xlabel('Cosine similarity')\n",
    "plt.title('The distribution of cosine similarity across ' + str(best_epoch) + ' epoch on test set')\n",
    "plt.legend()\n",
    "plt.show()"
   ]
  },
  {
   "cell_type": "markdown",
   "id": "65d7085c-b72b-4777-85e1-7e847971ef2b",
   "metadata": {},
   "source": [
    "## Create df: epoch - cosing similarity"
   ]
  },
  {
   "cell_type": "code",
   "execution_count": 27,
   "id": "2e4e9fb6-9af8-4d1f-bfa2-1d8f25c99f3e",
   "metadata": {},
   "outputs": [],
   "source": [
    "cos_sim_best_epoch_df = pd.DataFrame({'epoch': [best_epoch], 'cosine_sim_median': [output_test_cos_sim['cosine_sim_0'].median()]})"
   ]
  },
  {
   "cell_type": "code",
   "execution_count": 28,
   "id": "766afcde-69d9-407e-b514-c7f65207d416",
   "metadata": {},
   "outputs": [
    {
     "data": {
      "text/html": [
       "<div>\n",
       "<style scoped>\n",
       "    .dataframe tbody tr th:only-of-type {\n",
       "        vertical-align: middle;\n",
       "    }\n",
       "\n",
       "    .dataframe tbody tr th {\n",
       "        vertical-align: top;\n",
       "    }\n",
       "\n",
       "    .dataframe thead th {\n",
       "        text-align: right;\n",
       "    }\n",
       "</style>\n",
       "<table border=\"1\" class=\"dataframe\">\n",
       "  <thead>\n",
       "    <tr style=\"text-align: right;\">\n",
       "      <th></th>\n",
       "      <th>epoch</th>\n",
       "      <th>cosine_sim_median</th>\n",
       "    </tr>\n",
       "  </thead>\n",
       "  <tbody>\n",
       "    <tr>\n",
       "      <th>0</th>\n",
       "      <td>2</td>\n",
       "      <td>0.835421</td>\n",
       "    </tr>\n",
       "  </tbody>\n",
       "</table>\n",
       "</div>"
      ],
      "text/plain": [
       "   epoch  cosine_sim_median\n",
       "0      2           0.835421"
      ]
     },
     "execution_count": 28,
     "metadata": {},
     "output_type": "execute_result"
    }
   ],
   "source": [
    "cos_sim_best_epoch_df"
   ]
  },
  {
   "cell_type": "markdown",
   "id": "898a604a-0a14-43cd-8574-d2ac3d6dfff5",
   "metadata": {},
   "source": [
    "## Define the topics for prompts"
   ]
  },
  {
   "cell_type": "code",
   "execution_count": 30,
   "id": "c5ce04ac-c800-4748-8dbf-f7b89dfc311c",
   "metadata": {},
   "outputs": [
    {
     "data": {
      "text/plain": [
       "'Hello, I am interested in discussing the field of linguistic anthropology and its relationship with archaeology.'"
      ]
     },
     "execution_count": 30,
     "metadata": {},
     "output_type": "execute_result"
    }
   ],
   "source": [
    "output_test_cos_sim.loc[78, 'question']"
   ]
  },
  {
   "cell_type": "code",
   "execution_count": 31,
   "id": "5169251e-2bfd-4c91-8779-f2ddc93815ee",
   "metadata": {},
   "outputs": [
    {
     "data": {
      "text/plain": [
       "'Certainly, I can help. What specific aspects of this relationship would you like to explore?'"
      ]
     },
     "execution_count": 31,
     "metadata": {},
     "output_type": "execute_result"
    }
   ],
   "source": [
    "output_test_cos_sim.loc[78, 'correct_answer']"
   ]
  },
  {
   "cell_type": "code",
   "execution_count": 32,
   "id": "bb5f533c-b047-456d-9de9-0a323febc108",
   "metadata": {},
   "outputs": [
    {
     "data": {
      "text/plain": [
       "'Certainly, linguistic anthropology is a subfield of anthropology that focuses on the study of language and its role in human culture. How would you like to proceed?'"
      ]
     },
     "execution_count": 32,
     "metadata": {},
     "output_type": "execute_result"
    }
   ],
   "source": [
    "output_test_cos_sim.loc[78, 'gener_answer_0']"
   ]
  },
  {
   "cell_type": "code",
   "execution_count": 33,
   "id": "556c5fbb-36bf-4816-b644-6e0a63acae2d",
   "metadata": {},
   "outputs": [
    {
     "data": {
      "text/html": [
       "<div>\n",
       "<style scoped>\n",
       "    .dataframe tbody tr th:only-of-type {\n",
       "        vertical-align: middle;\n",
       "    }\n",
       "\n",
       "    .dataframe tbody tr th {\n",
       "        vertical-align: top;\n",
       "    }\n",
       "\n",
       "    .dataframe thead th {\n",
       "        text-align: right;\n",
       "    }\n",
       "</style>\n",
       "<table border=\"1\" class=\"dataframe\">\n",
       "  <thead>\n",
       "    <tr style=\"text-align: right;\">\n",
       "      <th></th>\n",
       "      <th>question</th>\n",
       "      <th>correct_answer</th>\n",
       "      <th>gener_answer_0</th>\n",
       "      <th>cosine_sim_0</th>\n",
       "    </tr>\n",
       "  </thead>\n",
       "  <tbody>\n",
       "    <tr>\n",
       "      <th>78</th>\n",
       "      <td>Hello, I am interested in discussing the field...</td>\n",
       "      <td>Certainly, I can help. What specific aspects o...</td>\n",
       "      <td>Certainly, linguistic anthropology is a subfie...</td>\n",
       "      <td>0.280558</td>\n",
       "    </tr>\n",
       "    <tr>\n",
       "      <th>91</th>\n",
       "      <td>What are some of the most important lessons th...</td>\n",
       "      <td>One of the most important lessons we can learn...</td>\n",
       "      <td>One of the most important lessons that we can ...</td>\n",
       "      <td>0.475299</td>\n",
       "    </tr>\n",
       "    <tr>\n",
       "      <th>137</th>\n",
       "      <td>Can you provide an example of a successful app...</td>\n",
       "      <td>Certainly. One example is the Virtual Curation...</td>\n",
       "      <td>One example of a successful application of Vir...</td>\n",
       "      <td>0.469160</td>\n",
       "    </tr>\n",
       "    <tr>\n",
       "      <th>152</th>\n",
       "      <td>What do you think the future holds for Action ...</td>\n",
       "      <td>I believe that we will continue to see advance...</td>\n",
       "      <td>Action Recognition technology is expected to c...</td>\n",
       "      <td>0.398693</td>\n",
       "    </tr>\n",
       "    <tr>\n",
       "      <th>164</th>\n",
       "      <td>What are some of the challenges that need to b...</td>\n",
       "      <td>There are several challenges that need to be a...</td>\n",
       "      <td>One of the main challenges is the ability of t...</td>\n",
       "      <td>0.416152</td>\n",
       "    </tr>\n",
       "    <tr>\n",
       "      <th>240</th>\n",
       "      <td>Hello, I am interested in learning about model...</td>\n",
       "      <td>Great. Model deployment is an essential step i...</td>\n",
       "      <td>Certainly, I can help. What specifically would...</td>\n",
       "      <td>0.297715</td>\n",
       "    </tr>\n",
       "    <tr>\n",
       "      <th>256</th>\n",
       "      <td>What are some of the challenges involved in mo...</td>\n",
       "      <td>One major challenge is the high dimensionality...</td>\n",
       "      <td>One of the main challenges in model optimizati...</td>\n",
       "      <td>0.430634</td>\n",
       "    </tr>\n",
       "    <tr>\n",
       "      <th>304</th>\n",
       "      <td>What are some of the challenges associated wit...</td>\n",
       "      <td>One of the main challenges is dealing with sen...</td>\n",
       "      <td>One of the main challenges is dealing with dyn...</td>\n",
       "      <td>0.339739</td>\n",
       "    </tr>\n",
       "    <tr>\n",
       "      <th>355</th>\n",
       "      <td>What can we learn about exoplanet atmospheres ...</td>\n",
       "      <td>By analyzing the light that passes through or ...</td>\n",
       "      <td>Transmission spectroscopy involves observing t...</td>\n",
       "      <td>0.498650</td>\n",
       "    </tr>\n",
       "    <tr>\n",
       "      <th>368</th>\n",
       "      <td>How is continuum emission related to the tempe...</td>\n",
       "      <td>The temperature of a celestial body affects th...</td>\n",
       "      <td>Continuum emission is the emission of electrom...</td>\n",
       "      <td>0.481412</td>\n",
       "    </tr>\n",
       "    <tr>\n",
       "      <th>413</th>\n",
       "      <td>Are gamma-ray bursts rare or fairly common eve...</td>\n",
       "      <td>GRBs are relatively rare, with only a few dete...</td>\n",
       "      <td>Gamma-ray bursts are actually quite rare event...</td>\n",
       "      <td>0.365583</td>\n",
       "    </tr>\n",
       "    <tr>\n",
       "      <th>457</th>\n",
       "      <td>What are some of the challenges faced in build...</td>\n",
       "      <td>One challenge is the complicated process of co...</td>\n",
       "      <td>One of the main challenges in building and usi...</td>\n",
       "      <td>0.336364</td>\n",
       "    </tr>\n",
       "  </tbody>\n",
       "</table>\n",
       "</div>"
      ],
      "text/plain": [
       "                                              question  \\\n",
       "78   Hello, I am interested in discussing the field...   \n",
       "91   What are some of the most important lessons th...   \n",
       "137  Can you provide an example of a successful app...   \n",
       "152  What do you think the future holds for Action ...   \n",
       "164  What are some of the challenges that need to b...   \n",
       "240  Hello, I am interested in learning about model...   \n",
       "256  What are some of the challenges involved in mo...   \n",
       "304  What are some of the challenges associated wit...   \n",
       "355  What can we learn about exoplanet atmospheres ...   \n",
       "368  How is continuum emission related to the tempe...   \n",
       "413  Are gamma-ray bursts rare or fairly common eve...   \n",
       "457  What are some of the challenges faced in build...   \n",
       "\n",
       "                                        correct_answer  \\\n",
       "78   Certainly, I can help. What specific aspects o...   \n",
       "91   One of the most important lessons we can learn...   \n",
       "137  Certainly. One example is the Virtual Curation...   \n",
       "152  I believe that we will continue to see advance...   \n",
       "164  There are several challenges that need to be a...   \n",
       "240  Great. Model deployment is an essential step i...   \n",
       "256  One major challenge is the high dimensionality...   \n",
       "304  One of the main challenges is dealing with sen...   \n",
       "355  By analyzing the light that passes through or ...   \n",
       "368  The temperature of a celestial body affects th...   \n",
       "413  GRBs are relatively rare, with only a few dete...   \n",
       "457  One challenge is the complicated process of co...   \n",
       "\n",
       "                                        gener_answer_0  cosine_sim_0  \n",
       "78   Certainly, linguistic anthropology is a subfie...      0.280558  \n",
       "91   One of the most important lessons that we can ...      0.475299  \n",
       "137  One example of a successful application of Vir...      0.469160  \n",
       "152  Action Recognition technology is expected to c...      0.398693  \n",
       "164  One of the main challenges is the ability of t...      0.416152  \n",
       "240  Certainly, I can help. What specifically would...      0.297715  \n",
       "256  One of the main challenges in model optimizati...      0.430634  \n",
       "304  One of the main challenges is dealing with dyn...      0.339739  \n",
       "355  Transmission spectroscopy involves observing t...      0.498650  \n",
       "368  Continuum emission is the emission of electrom...      0.481412  \n",
       "413  Gamma-ray bursts are actually quite rare event...      0.365583  \n",
       "457  One of the main challenges in building and usi...      0.336364  "
      ]
     },
     "execution_count": 33,
     "metadata": {},
     "output_type": "execute_result"
    }
   ],
   "source": [
    "output_test_cos_sim[output_test_cos_sim['cosine_sim_0'] < 0.5]"
   ]
  },
  {
   "cell_type": "markdown",
   "id": "37deef92-c228-4bd0-bf23-222072242ed1",
   "metadata": {},
   "source": [
    "## Analysis prompt's effect"
   ]
  },
  {
   "cell_type": "code",
   "execution_count": 35,
   "id": "1bede70f-f9b7-406c-b751-70e44289f522",
   "metadata": {},
   "outputs": [],
   "source": [
    "output_test_cos_sim_prompt = pd.read_csv('test_set_output_with_prompt.csv')"
   ]
  },
  {
   "cell_type": "code",
   "execution_count": 123,
   "id": "d2bbd975-6f48-4808-9651-3cb35b47f07d",
   "metadata": {},
   "outputs": [
    {
     "data": {
      "text/plain": [
       "0.822034625"
      ]
     },
     "execution_count": 123,
     "metadata": {},
     "output_type": "execute_result"
    }
   ],
   "source": [
    "output_test_cos_sim_prompt['cosine_sim_0'].median()"
   ]
  },
  {
   "cell_type": "code",
   "execution_count": 120,
   "id": "5aa03a88-4265-4b49-9741-a931b1dbfd64",
   "metadata": {},
   "outputs": [
    {
     "name": "stderr",
     "output_type": "stream",
     "text": [
      "No artists with labels found to put in legend.  Note that artists whose label start with an underscore are ignored when legend() is called with no argument.\n"
     ]
    },
    {
     "data": {
      "image/png": "[encoded data removed]",
      "text/plain": [
       "<Figure size 640x480 with 1 Axes>"
      ]
     },
     "metadata": {},
     "output_type": "display_data"
    }
   ],
   "source": [
    "fig, ax = plt.subplots()\n",
    "ax.boxplot(output_test_cos_sim['cosine_sim_0'], positions=[0])\n",
    "ax.boxplot(output_test_cos_sim_prompt['cosine_sim_0'], positions=[1])\n",
    "box = ax.get_position()\n",
    "ax.set_position([box.x0, box.y0, box.width * 0.8, box.height])\n",
    "ax.legend(loc='center left', bbox_to_anchor=(1, 0.5))\n",
    "ax.set_ylabel('Cosine similarity')\n",
    "plt.title('Cosine Similarity Analysis of Validation Set Questions Across Epochs')\n",
    "plt.show()"
   ]
  },
  {
   "cell_type": "markdown",
   "id": "992cd157-74a6-4b21-b260-ead7f868fed4",
   "metadata": {},
   "source": [
    "### Analize outliers in test_with_prompt"
   ]
  },
  {
   "cell_type": "code",
   "execution_count": 68,
   "id": "33c3c524-0cd9-4c8b-bc7e-4af4c7376106",
   "metadata": {},
   "outputs": [
    {
     "data": {
      "text/html": [
       "<div>\n",
       "<style scoped>\n",
       "    .dataframe tbody tr th:only-of-type {\n",
       "        vertical-align: middle;\n",
       "    }\n",
       "\n",
       "    .dataframe tbody tr th {\n",
       "        vertical-align: top;\n",
       "    }\n",
       "\n",
       "    .dataframe thead th {\n",
       "        text-align: right;\n",
       "    }\n",
       "</style>\n",
       "<table border=\"1\" class=\"dataframe\">\n",
       "  <thead>\n",
       "    <tr style=\"text-align: right;\">\n",
       "      <th></th>\n",
       "      <th>question</th>\n",
       "      <th>correct_answer</th>\n",
       "      <th>gener_answer_0</th>\n",
       "      <th>cosine_sim_0</th>\n",
       "    </tr>\n",
       "  </thead>\n",
       "  <tbody>\n",
       "    <tr>\n",
       "      <th>78</th>\n",
       "      <td>Hello, I am interested in discussing the field...</td>\n",
       "      <td>Certainly, I can help. What specific aspects o...</td>\n",
       "      <td>Linguistic anthropology is the study of langua...</td>\n",
       "      <td>0.108292</td>\n",
       "    </tr>\n",
       "    <tr>\n",
       "      <th>278</th>\n",
       "      <td>Hello, I would like to discuss recommender sys...</td>\n",
       "      <td>Certainly, I'd be happy to help. What specific...</td>\n",
       "      <td>Recommender systems are a type of machine lear...</td>\n",
       "      <td>0.041920</td>\n",
       "    </tr>\n",
       "    <tr>\n",
       "      <th>302</th>\n",
       "      <td>Hello, I am interested in discussing the topic...</td>\n",
       "      <td>Of course, I'd be happy to chat with you about...</td>\n",
       "      <td>Robot Localization and Mapping is a subfield o...</td>\n",
       "      <td>0.034541</td>\n",
       "    </tr>\n",
       "  </tbody>\n",
       "</table>\n",
       "</div>"
      ],
      "text/plain": [
       "                                              question  \\\n",
       "78   Hello, I am interested in discussing the field...   \n",
       "278  Hello, I would like to discuss recommender sys...   \n",
       "302  Hello, I am interested in discussing the topic...   \n",
       "\n",
       "                                        correct_answer  \\\n",
       "78   Certainly, I can help. What specific aspects o...   \n",
       "278  Certainly, I'd be happy to help. What specific...   \n",
       "302  Of course, I'd be happy to chat with you about...   \n",
       "\n",
       "                                        gener_answer_0  cosine_sim_0  \n",
       "78   Linguistic anthropology is the study of langua...      0.108292  \n",
       "278  Recommender systems are a type of machine lear...      0.041920  \n",
       "302  Robot Localization and Mapping is a subfield o...      0.034541  "
      ]
     },
     "execution_count": 68,
     "metadata": {},
     "output_type": "execute_result"
    }
   ],
   "source": [
    "output_test_cos_sim_prompt[output_test_cos_sim_prompt['cosine_sim_0'] < 0.2]"
   ]
  },
  {
   "cell_type": "code",
   "execution_count": 72,
   "id": "f0140c01-e941-4bb9-ac55-b5f9fc8e8f75",
   "metadata": {},
   "outputs": [
    {
     "data": {
      "text/plain": [
       "'Hello, I am interested in discussing the field of linguistic anthropology and its relationship with archaeology.'"
      ]
     },
     "execution_count": 72,
     "metadata": {},
     "output_type": "execute_result"
    }
   ],
   "source": [
    "output_test_cos_sim_prompt.loc[78, 'question']"
   ]
  },
  {
   "cell_type": "code",
   "execution_count": 74,
   "id": "0e90db8b-7e43-48cb-8e85-40f893efc4a5",
   "metadata": {},
   "outputs": [
    {
     "data": {
      "text/plain": [
       "'Certainly, I can help. What specific aspects of this relationship would you like to explore?'"
      ]
     },
     "execution_count": 74,
     "metadata": {},
     "output_type": "execute_result"
    }
   ],
   "source": [
    "output_test_cos_sim_prompt.loc[78, 'correct_answer']"
   ]
  },
  {
   "cell_type": "code",
   "execution_count": 76,
   "id": "83cdb25b-ec6c-4468-8070-40c36568f2d9",
   "metadata": {},
   "outputs": [
    {
     "data": {
      "text/plain": [
       "'Linguistic anthropology is the study of language and its relationship to culture, society, and history. It is closely related to archaeology, as both fields seek to understand human behavior and culture through material remains.'"
      ]
     },
     "execution_count": 76,
     "metadata": {},
     "output_type": "execute_result"
    }
   ],
   "source": [
    "output_test_cos_sim_prompt.loc[78, 'gener_answer_0']"
   ]
  },
  {
   "cell_type": "code",
   "execution_count": 78,
   "id": "fe401594-d397-44b3-9211-2cd7cc2bd17d",
   "metadata": {},
   "outputs": [
    {
     "data": {
      "text/plain": [
       "'Certainly, linguistic anthropology is a subfield of anthropology that focuses on the study of language and its role in human culture. How would you like to proceed?'"
      ]
     },
     "execution_count": 78,
     "metadata": {},
     "output_type": "execute_result"
    }
   ],
   "source": [
    "output_test_cos_sim.loc[78, 'gener_answer_0']"
   ]
  },
  {
   "cell_type": "code",
   "execution_count": 104,
   "id": "5f9cd3bc-0308-41ed-97cb-3f054291e1ea",
   "metadata": {},
   "outputs": [
    {
     "data": {
      "text/plain": [
       "'Hello, I am interested in discussing the topic of Robot Localization and Mapping within the field of Artificial Intelligence and Machine Learning.'"
      ]
     },
     "execution_count": 104,
     "metadata": {},
     "output_type": "execute_result"
    }
   ],
   "source": [
    "output_test_cos_sim_prompt.loc[302, 'question']"
   ]
  },
  {
   "cell_type": "code",
   "execution_count": 106,
   "id": "f7238711-93cc-4ea3-b5bd-b59652bfce23",
   "metadata": {},
   "outputs": [
    {
     "data": {
      "text/plain": [
       "\"Of course, I'd be happy to chat with you about it. What specific questions or topics would you like me to cover?\""
      ]
     },
     "execution_count": 106,
     "metadata": {},
     "output_type": "execute_result"
    }
   ],
   "source": [
    "output_test_cos_sim_prompt.loc[302, 'correct_answer']"
   ]
  },
  {
   "cell_type": "code",
   "execution_count": 108,
   "id": "3bade763-3053-4bb0-ad45-b64b9ff4d5eb",
   "metadata": {},
   "outputs": [
    {
     "data": {
      "text/plain": [
       "'Robot Localization and Mapping is a subfield of Artificial Intelligence and Machine Learning that focuses on the development of algorithms and techniques for robots to navigate and map their environment. This involves the use of sensors, such as cameras and lidars, to gather data about the environment and algorithms to process this data and create a map of the environment.'"
      ]
     },
     "execution_count": 108,
     "metadata": {},
     "output_type": "execute_result"
    }
   ],
   "source": [
    "output_test_cos_sim_prompt.loc[302, 'gener_answer_0']"
   ]
  },
  {
   "cell_type": "code",
   "execution_count": 90,
   "id": "4f54179f-131d-4c85-bba6-17beb6aba463",
   "metadata": {},
   "outputs": [
    {
     "data": {
      "text/plain": [
       "'Certainly, what would you like to know?'"
      ]
     },
     "execution_count": 90,
     "metadata": {},
     "output_type": "execute_result"
    }
   ],
   "source": [
    "output_test_cos_sim.loc[278, 'gener_answer_0']"
   ]
  },
  {
   "cell_type": "code",
   "execution_count": 132,
   "id": "9dcde73e-fe7c-421d-abb9-448521a889be",
   "metadata": {},
   "outputs": [],
   "source": [
    "a = output_test_cos_sim.iloc[0:10].reset_index(drop=True)"
   ]
  },
  {
   "cell_type": "code",
   "execution_count": 134,
   "id": "b28963fd-f175-4e6c-be4b-e2e7bddd77da",
   "metadata": {},
   "outputs": [
    {
     "data": {
      "text/html": [
       "<div>\n",
       "<style scoped>\n",
       "    .dataframe tbody tr th:only-of-type {\n",
       "        vertical-align: middle;\n",
       "    }\n",
       "\n",
       "    .dataframe tbody tr th {\n",
       "        vertical-align: top;\n",
       "    }\n",
       "\n",
       "    .dataframe thead th {\n",
       "        text-align: right;\n",
       "    }\n",
       "</style>\n",
       "<table border=\"1\" class=\"dataframe\">\n",
       "  <thead>\n",
       "    <tr style=\"text-align: right;\">\n",
       "      <th></th>\n",
       "      <th>question</th>\n",
       "      <th>correct_answer</th>\n",
       "      <th>gener_answer_0</th>\n",
       "      <th>cosine_sim_0</th>\n",
       "    </tr>\n",
       "  </thead>\n",
       "  <tbody>\n",
       "    <tr>\n",
       "      <th>0</th>\n",
       "      <td>Hello, I am interested in learning about the f...</td>\n",
       "      <td>Applied anthropology is a subfield of anthropo...</td>\n",
       "      <td>Certainly. Applied anthropology is the applica...</td>\n",
       "      <td>0.913682</td>\n",
       "    </tr>\n",
       "    <tr>\n",
       "      <th>1</th>\n",
       "      <td>Can you give me an example of how applied anth...</td>\n",
       "      <td>Sure. Let's say there is a proposed developmen...</td>\n",
       "      <td>Certainly. One example is the use of archaeolo...</td>\n",
       "      <td>0.663899</td>\n",
       "    </tr>\n",
       "    <tr>\n",
       "      <th>2</th>\n",
       "      <td>I'm curious though, what are some other areas ...</td>\n",
       "      <td>Applied anthropology can be used in a variety ...</td>\n",
       "      <td>Applied anthropology is used in a variety of f...</td>\n",
       "      <td>0.844441</td>\n",
       "    </tr>\n",
       "    <tr>\n",
       "      <th>3</th>\n",
       "      <td>It seems that applied anthropology is focused ...</td>\n",
       "      <td>Traditional anthropology is focused on underst...</td>\n",
       "      <td>Applied anthropology is a subfield of anthropo...</td>\n",
       "      <td>0.877252</td>\n",
       "    </tr>\n",
       "    <tr>\n",
       "      <th>4</th>\n",
       "      <td>As a PhD student, I am interested in learning ...</td>\n",
       "      <td>Certainly. In recent years, there has been a g...</td>\n",
       "      <td>Certainly. Archaeological Science is a rapidly...</td>\n",
       "      <td>0.849948</td>\n",
       "    </tr>\n",
       "    <tr>\n",
       "      <th>5</th>\n",
       "      <td>How do isotopic analysis and DNA analysis comp...</td>\n",
       "      <td>The use of scientific methods can help to prov...</td>\n",
       "      <td>Isotopic analysis and DNA analysis are two com...</td>\n",
       "      <td>0.883236</td>\n",
       "    </tr>\n",
       "    <tr>\n",
       "      <th>6</th>\n",
       "      <td>Are there any particular challenges associated...</td>\n",
       "      <td>Yes, there are several challenges. One is the ...</td>\n",
       "      <td>Yes, there are several challenges associated w...</td>\n",
       "      <td>0.847307</td>\n",
       "    </tr>\n",
       "    <tr>\n",
       "      <th>7</th>\n",
       "      <td>As a PhD student in anthropology, I am particu...</td>\n",
       "      <td>Yes, I completely agree. Biocultural anthropol...</td>\n",
       "      <td>Yes, I agree. Biocultural anthropology is a fa...</td>\n",
       "      <td>0.927257</td>\n",
       "    </tr>\n",
       "    <tr>\n",
       "      <th>8</th>\n",
       "      <td>I think one of the strengths of biocultural an...</td>\n",
       "      <td>That's a great point. Biocultural anthropology...</td>\n",
       "      <td>Yes, that's a great point. Biocultural anthrop...</td>\n",
       "      <td>0.750049</td>\n",
       "    </tr>\n",
       "    <tr>\n",
       "      <th>9</th>\n",
       "      <td>I have been studying the field of Biological A...</td>\n",
       "      <td>Certainly. There are several fields within Bio...</td>\n",
       "      <td>Certainly. Biological Anthropology is a broad ...</td>\n",
       "      <td>0.921775</td>\n",
       "    </tr>\n",
       "  </tbody>\n",
       "</table>\n",
       "</div>"
      ],
      "text/plain": [
       "                                            question  \\\n",
       "0  Hello, I am interested in learning about the f...   \n",
       "1  Can you give me an example of how applied anth...   \n",
       "2  I'm curious though, what are some other areas ...   \n",
       "3  It seems that applied anthropology is focused ...   \n",
       "4  As a PhD student, I am interested in learning ...   \n",
       "5  How do isotopic analysis and DNA analysis comp...   \n",
       "6  Are there any particular challenges associated...   \n",
       "7  As a PhD student in anthropology, I am particu...   \n",
       "8  I think one of the strengths of biocultural an...   \n",
       "9  I have been studying the field of Biological A...   \n",
       "\n",
       "                                      correct_answer  \\\n",
       "0  Applied anthropology is a subfield of anthropo...   \n",
       "1  Sure. Let's say there is a proposed developmen...   \n",
       "2  Applied anthropology can be used in a variety ...   \n",
       "3  Traditional anthropology is focused on underst...   \n",
       "4  Certainly. In recent years, there has been a g...   \n",
       "5  The use of scientific methods can help to prov...   \n",
       "6  Yes, there are several challenges. One is the ...   \n",
       "7  Yes, I completely agree. Biocultural anthropol...   \n",
       "8  That's a great point. Biocultural anthropology...   \n",
       "9  Certainly. There are several fields within Bio...   \n",
       "\n",
       "                                      gener_answer_0  cosine_sim_0  \n",
       "0  Certainly. Applied anthropology is the applica...      0.913682  \n",
       "1  Certainly. One example is the use of archaeolo...      0.663899  \n",
       "2  Applied anthropology is used in a variety of f...      0.844441  \n",
       "3  Applied anthropology is a subfield of anthropo...      0.877252  \n",
       "4  Certainly. Archaeological Science is a rapidly...      0.849948  \n",
       "5  Isotopic analysis and DNA analysis are two com...      0.883236  \n",
       "6  Yes, there are several challenges associated w...      0.847307  \n",
       "7  Yes, I agree. Biocultural anthropology is a fa...      0.927257  \n",
       "8  Yes, that's a great point. Biocultural anthrop...      0.750049  \n",
       "9  Certainly. Biological Anthropology is a broad ...      0.921775  "
      ]
     },
     "execution_count": 134,
     "metadata": {},
     "output_type": "execute_result"
    }
   ],
   "source": [
    "a"
   ]
  },
  {
   "cell_type": "markdown",
   "id": "ec977d7a-06b5-4c18-ab4d-a1d338751376",
   "metadata": {},
   "source": [
    "### Buff"
   ]
  },
  {
   "cell_type": "code",
   "execution_count": 103,
   "id": "993b6886-f760-45db-bda5-f33346a415f5",
   "metadata": {},
   "outputs": [],
   "source": [
    "output_val_cos_sim_prompt = pd.read_csv('valid_set_output_with_prompt.csv')"
   ]
  },
  {
   "cell_type": "code",
   "execution_count": 109,
   "id": "379eefef-368d-4f96-8507-65e23f18306e",
   "metadata": {},
   "outputs": [
    {
     "data": {
      "text/plain": [
       "'What strategies or techniques do tour planners use to create unique and memorable experiences for their clients while also managing budget and time constraints?'"
      ]
     },
     "execution_count": 109,
     "metadata": {},
     "output_type": "execute_result"
    }
   ],
   "source": [
    "output_val_cos_sim_prompt.loc[9, 'question']"
   ]
  },
  {
   "cell_type": "code",
   "execution_count": 111,
   "id": "60942779-e70c-4de3-9cbb-7fda90417fb4",
   "metadata": {},
   "outputs": [
    {
     "data": {
      "text/plain": [
       "'One strategy that tour planners often use is to incorporate a mix of activities and experiences that appeal to a variety of interests and budgets. They may also offer optional add-ons or upgrades that allow clients to personalize their experience and enhance certain aspects of the tour. Additionally, tour planners may negotiate with vendors and tour operators to secure discounts or special rates, which can help to manage costs without sacrificing the quality of the tour.'"
      ]
     },
     "execution_count": 111,
     "metadata": {},
     "output_type": "execute_result"
    }
   ],
   "source": [
    "output_val_cos_sim_prompt.loc[9, 'correct_answer']"
   ]
  },
  {
   "cell_type": "code",
   "execution_count": 113,
   "id": "a998ff6a-1a68-4569-81fe-81b32f2d243e",
   "metadata": {},
   "outputs": [
    {
     "data": {
      "text/plain": [
       "'Tour planners use a variety of strategies to create unique and memorable experiences for their clients while also managing budget and time constraints. These strategies include researching and selecting unique destinations, incorporating local culture and traditions, and offering personalized experiences.'"
      ]
     },
     "execution_count": 113,
     "metadata": {},
     "output_type": "execute_result"
    }
   ],
   "source": [
    "output_val_cos_sim_prompt.loc[9, 'gener_answer_0']"
   ]
  },
  {
   "cell_type": "code",
   "execution_count": 119,
   "id": "42e56e7d-eb74-4b49-9b75-bdaceb3608fc",
   "metadata": {},
   "outputs": [
    {
     "data": {
      "text/plain": [
       "\"Tour planners use a variety of strategies to create unique and memorable experiences for their clients while also managing budget and time constraints. One common technique is to focus on the destination's unique cultural and natural features, and to design tours that highlight these aspects. Another strategy is to incorporate local experiences, such as homestays or cooking classes, to give travelers a deeper understanding of the destination's culture. Additionally, tour planners may use technology, such as virtual reality or augmented reality, to enhance the tour experience and provide a more immersive experience for travelers.\""
      ]
     },
     "execution_count": 119,
     "metadata": {},
     "output_type": "execute_result"
    }
   ],
   "source": [
    "output_val_cos_sim.loc[9, 'gener_answer_2']"
   ]
  },
  {
   "cell_type": "code",
   "execution_count": 105,
   "id": "4d5b8da5-ab6c-4fc6-ad35-57b14eb7bde0",
   "metadata": {},
   "outputs": [
    {
     "data": {
      "text/html": [
       "<div>\n",
       "<style scoped>\n",
       "    .dataframe tbody tr th:only-of-type {\n",
       "        vertical-align: middle;\n",
       "    }\n",
       "\n",
       "    .dataframe tbody tr th {\n",
       "        vertical-align: top;\n",
       "    }\n",
       "\n",
       "    .dataframe thead th {\n",
       "        text-align: right;\n",
       "    }\n",
       "</style>\n",
       "<table border=\"1\" class=\"dataframe\">\n",
       "  <thead>\n",
       "    <tr style=\"text-align: right;\">\n",
       "      <th></th>\n",
       "      <th>No_prompt</th>\n",
       "      <th>With_prompt</th>\n",
       "    </tr>\n",
       "  </thead>\n",
       "  <tbody>\n",
       "    <tr>\n",
       "      <th>0</th>\n",
       "      <td>0.846938</td>\n",
       "      <td>0.876824</td>\n",
       "    </tr>\n",
       "    <tr>\n",
       "      <th>1</th>\n",
       "      <td>0.766737</td>\n",
       "      <td>0.757231</td>\n",
       "    </tr>\n",
       "    <tr>\n",
       "      <th>2</th>\n",
       "      <td>0.653557</td>\n",
       "      <td>0.696215</td>\n",
       "    </tr>\n",
       "    <tr>\n",
       "      <th>3</th>\n",
       "      <td>0.932931</td>\n",
       "      <td>0.739179</td>\n",
       "    </tr>\n",
       "    <tr>\n",
       "      <th>4</th>\n",
       "      <td>0.663384</td>\n",
       "      <td>0.629424</td>\n",
       "    </tr>\n",
       "    <tr>\n",
       "      <th>5</th>\n",
       "      <td>0.687536</td>\n",
       "      <td>0.778111</td>\n",
       "    </tr>\n",
       "    <tr>\n",
       "      <th>6</th>\n",
       "      <td>0.895904</td>\n",
       "      <td>0.892882</td>\n",
       "    </tr>\n",
       "    <tr>\n",
       "      <th>7</th>\n",
       "      <td>0.661287</td>\n",
       "      <td>0.659318</td>\n",
       "    </tr>\n",
       "    <tr>\n",
       "      <th>8</th>\n",
       "      <td>0.784490</td>\n",
       "      <td>0.912669</td>\n",
       "    </tr>\n",
       "    <tr>\n",
       "      <th>9</th>\n",
       "      <td>0.750633</td>\n",
       "      <td>0.870244</td>\n",
       "    </tr>\n",
       "    <tr>\n",
       "      <th>10</th>\n",
       "      <td>0.810808</td>\n",
       "      <td>0.848246</td>\n",
       "    </tr>\n",
       "    <tr>\n",
       "      <th>11</th>\n",
       "      <td>0.817162</td>\n",
       "      <td>0.792675</td>\n",
       "    </tr>\n",
       "    <tr>\n",
       "      <th>12</th>\n",
       "      <td>0.496804</td>\n",
       "      <td>0.548003</td>\n",
       "    </tr>\n",
       "    <tr>\n",
       "      <th>13</th>\n",
       "      <td>0.670720</td>\n",
       "      <td>0.653197</td>\n",
       "    </tr>\n",
       "    <tr>\n",
       "      <th>14</th>\n",
       "      <td>0.840923</td>\n",
       "      <td>0.792964</td>\n",
       "    </tr>\n",
       "    <tr>\n",
       "      <th>15</th>\n",
       "      <td>0.792179</td>\n",
       "      <td>0.799506</td>\n",
       "    </tr>\n",
       "    <tr>\n",
       "      <th>16</th>\n",
       "      <td>0.765233</td>\n",
       "      <td>0.759630</td>\n",
       "    </tr>\n",
       "    <tr>\n",
       "      <th>17</th>\n",
       "      <td>0.931947</td>\n",
       "      <td>0.966231</td>\n",
       "    </tr>\n",
       "  </tbody>\n",
       "</table>\n",
       "</div>"
      ],
      "text/plain": [
       "    No_prompt  With_prompt\n",
       "0    0.846938     0.876824\n",
       "1    0.766737     0.757231\n",
       "2    0.653557     0.696215\n",
       "3    0.932931     0.739179\n",
       "4    0.663384     0.629424\n",
       "5    0.687536     0.778111\n",
       "6    0.895904     0.892882\n",
       "7    0.661287     0.659318\n",
       "8    0.784490     0.912669\n",
       "9    0.750633     0.870244\n",
       "10   0.810808     0.848246\n",
       "11   0.817162     0.792675\n",
       "12   0.496804     0.548003\n",
       "13   0.670720     0.653197\n",
       "14   0.840923     0.792964\n",
       "15   0.792179     0.799506\n",
       "16   0.765233     0.759630\n",
       "17   0.931947     0.966231"
      ]
     },
     "execution_count": 105,
     "metadata": {},
     "output_type": "execute_result"
    }
   ],
   "source": [
    "pd.concat([output_val_cos_sim['cosine_sim_2'], output_val_cos_sim_prompt['cosine_sim_0']], keys = ['No_prompt', 'With_prompt'], axis = 1)"
   ]
  },
  {
   "cell_type": "code",
   "execution_count": 107,
   "id": "3c4fe663-b7c1-4895-97a1-4120ad2b4c3f",
   "metadata": {},
   "outputs": [
    {
     "data": {
      "text/plain": [
       "0.76752025"
      ]
     },
     "execution_count": 107,
     "metadata": {},
     "output_type": "execute_result"
    }
   ],
   "source": [
    "output_val_cos_sim['cosine_sim_0'].median()"
   ]
  },
  {
   "cell_type": "code",
   "execution_count": 63,
   "id": "e5b0b55a-95b3-4fd2-8ad7-70ec4786baa0",
   "metadata": {},
   "outputs": [
    {
     "data": {
      "text/html": [
       "<div>\n",
       "<style scoped>\n",
       "    .dataframe tbody tr th:only-of-type {\n",
       "        vertical-align: middle;\n",
       "    }\n",
       "\n",
       "    .dataframe tbody tr th {\n",
       "        vertical-align: top;\n",
       "    }\n",
       "\n",
       "    .dataframe thead th {\n",
       "        text-align: right;\n",
       "    }\n",
       "</style>\n",
       "<table border=\"1\" class=\"dataframe\">\n",
       "  <thead>\n",
       "    <tr style=\"text-align: right;\">\n",
       "      <th></th>\n",
       "      <th>No_prompt</th>\n",
       "      <th>With_prompt</th>\n",
       "    </tr>\n",
       "  </thead>\n",
       "  <tbody>\n",
       "    <tr>\n",
       "      <th>0</th>\n",
       "      <td>0.846938</td>\n",
       "      <td>0.799647</td>\n",
       "    </tr>\n",
       "    <tr>\n",
       "      <th>1</th>\n",
       "      <td>0.766737</td>\n",
       "      <td>0.786489</td>\n",
       "    </tr>\n",
       "    <tr>\n",
       "      <th>2</th>\n",
       "      <td>0.653557</td>\n",
       "      <td>0.662920</td>\n",
       "    </tr>\n",
       "    <tr>\n",
       "      <th>3</th>\n",
       "      <td>0.932931</td>\n",
       "      <td>0.673759</td>\n",
       "    </tr>\n",
       "    <tr>\n",
       "      <th>4</th>\n",
       "      <td>0.663384</td>\n",
       "      <td>0.677371</td>\n",
       "    </tr>\n",
       "    <tr>\n",
       "      <th>5</th>\n",
       "      <td>0.687536</td>\n",
       "      <td>0.768370</td>\n",
       "    </tr>\n",
       "    <tr>\n",
       "      <th>6</th>\n",
       "      <td>0.895904</td>\n",
       "      <td>0.870959</td>\n",
       "    </tr>\n",
       "    <tr>\n",
       "      <th>7</th>\n",
       "      <td>0.661287</td>\n",
       "      <td>0.628084</td>\n",
       "    </tr>\n",
       "    <tr>\n",
       "      <th>8</th>\n",
       "      <td>0.784490</td>\n",
       "      <td>0.762756</td>\n",
       "    </tr>\n",
       "    <tr>\n",
       "      <th>9</th>\n",
       "      <td>0.750633</td>\n",
       "      <td>0.516449</td>\n",
       "    </tr>\n",
       "    <tr>\n",
       "      <th>10</th>\n",
       "      <td>0.810808</td>\n",
       "      <td>0.803878</td>\n",
       "    </tr>\n",
       "    <tr>\n",
       "      <th>11</th>\n",
       "      <td>0.817162</td>\n",
       "      <td>0.580135</td>\n",
       "    </tr>\n",
       "    <tr>\n",
       "      <th>12</th>\n",
       "      <td>0.496804</td>\n",
       "      <td>0.230292</td>\n",
       "    </tr>\n",
       "    <tr>\n",
       "      <th>13</th>\n",
       "      <td>0.670720</td>\n",
       "      <td>0.453228</td>\n",
       "    </tr>\n",
       "    <tr>\n",
       "      <th>14</th>\n",
       "      <td>0.840923</td>\n",
       "      <td>0.772061</td>\n",
       "    </tr>\n",
       "    <tr>\n",
       "      <th>15</th>\n",
       "      <td>0.792179</td>\n",
       "      <td>0.879949</td>\n",
       "    </tr>\n",
       "    <tr>\n",
       "      <th>16</th>\n",
       "      <td>0.765233</td>\n",
       "      <td>0.780443</td>\n",
       "    </tr>\n",
       "    <tr>\n",
       "      <th>17</th>\n",
       "      <td>0.931947</td>\n",
       "      <td>0.954395</td>\n",
       "    </tr>\n",
       "  </tbody>\n",
       "</table>\n",
       "</div>"
      ],
      "text/plain": [
       "    No_prompt  With_prompt\n",
       "0    0.846938     0.799647\n",
       "1    0.766737     0.786489\n",
       "2    0.653557     0.662920\n",
       "3    0.932931     0.673759\n",
       "4    0.663384     0.677371\n",
       "5    0.687536     0.768370\n",
       "6    0.895904     0.870959\n",
       "7    0.661287     0.628084\n",
       "8    0.784490     0.762756\n",
       "9    0.750633     0.516449\n",
       "10   0.810808     0.803878\n",
       "11   0.817162     0.580135\n",
       "12   0.496804     0.230292\n",
       "13   0.670720     0.453228\n",
       "14   0.840923     0.772061\n",
       "15   0.792179     0.879949\n",
       "16   0.765233     0.780443\n",
       "17   0.931947     0.954395"
      ]
     },
     "execution_count": 63,
     "metadata": {},
     "output_type": "execute_result"
    }
   ],
   "source": [
    "pd.concat([output_val_cos_sim['cosine_sim_2'], output_val_cos_sim_prompt['cosine_sim_0']], keys = ['No_prompt', 'With_prompt'], axis = 1)"
   ]
  },
  {
   "cell_type": "code",
   "execution_count": 132,
   "id": "fbe129fd-4a1b-4eef-a3e2-2a534d56cc73",
   "metadata": {},
   "outputs": [
    {
     "data": {
      "text/plain": [
       "0.76752025"
      ]
     },
     "execution_count": 132,
     "metadata": {},
     "output_type": "execute_result"
    }
   ],
   "source": [
    "output_val_cos_sim['cosine_sim_0'].median()"
   ]
  },
  {
   "cell_type": "code",
   "execution_count": 87,
   "id": "081c8f22-f42b-457a-9401-aab231146a08",
   "metadata": {},
   "outputs": [
    {
     "data": {
      "text/plain": [
       "0.77175858"
      ]
     },
     "execution_count": 87,
     "metadata": {},
     "output_type": "execute_result"
    }
   ],
   "source": [
    "output_val_cos_sim_prompt['cosine_sim_1'].median()"
   ]
  },
  {
   "cell_type": "code",
   "execution_count": 89,
   "id": "d831c998-a522-48e4-9fbd-999867f12485",
   "metadata": {},
   "outputs": [
    {
     "data": {
      "text/plain": [
       "0.7756133350000001"
      ]
     },
     "execution_count": 89,
     "metadata": {},
     "output_type": "execute_result"
    }
   ],
   "source": [
    "output_val_cos_sim_prompt['cosine_sim_2'].median()"
   ]
  },
  {
   "cell_type": "code",
   "execution_count": 91,
   "id": "6ffa5a30-1110-43ca-988f-9679b7ce124a",
   "metadata": {},
   "outputs": [
    {
     "data": {
      "text/plain": [
       "0.7674233"
      ]
     },
     "execution_count": 91,
     "metadata": {},
     "output_type": "execute_result"
    }
   ],
   "source": [
    "output_val_cos_sim_prompt['cosine_sim_3'].median()"
   ]
  },
  {
   "cell_type": "code",
   "execution_count": null,
   "id": "ff245179-a93d-4b3f-a4cb-a8fd9655c7eb",
   "metadata": {},
   "outputs": [],
   "source": []
  }
 ],
 "metadata": {
  "kernelspec": {
   "display_name": "Python 3 (ipykernel)",
   "language": "python",
   "name": "python3"
  },
  "language_info": {
   "codemirror_mode": {
    "name": "ipython",
    "version": 3
   },
   "file_extension": ".py",
   "mimetype": "text/x-python",
   "name": "python",
   "nbconvert_exporter": "python",
   "pygments_lexer": "ipython3",
   "version": "3.11.7"
  }
 },
 "nbformat": 4,
 "nbformat_minor": 5
}
